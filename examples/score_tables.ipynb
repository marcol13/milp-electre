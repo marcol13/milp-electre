{
 "cells": [
  {
   "cell_type": "markdown",
   "metadata": {},
   "source": [
    "## Score tables\n",
    "---\n",
    "\n",
    "It is important to provide information about distances between different pairwise relations. By default distance matrix (here named as a `ScoreTable`) is set to these proposed by **Roy and Słowiński 1993**\n",
    "\n",
    "|$$S'_{ik} \\setminus S''_{ik}$$|$$a_iP^+a_k$$|$$a_iP^-a_k$$|$$a_iIa_k$$| $$a_iRa_k$$|\n",
    "|--------------|:---------:|:----------:|:----------:|:----------:|\n",
    "|$$a_iP^+a_k$$|**0**|**4**|**2**|**3**|\n",
    "|$$a_iP^-a_k$$|**4**|**0** |**2**|**3**|\n",
    "|$$a_iIa_k$$|**2**|**2**|**0**|**2**|\n",
    "|$$a_iRa_k$$|**3**|**3**|**2**|**0** |"
   ]
  },
  {
   "cell_type": "markdown",
   "metadata": {},
   "source": [
    "Default `ScoreTable` is accessible in `/core/const.py` as a `DEFAULT_SCORETABLE` variable. "
   ]
  },
  {
   "cell_type": "code",
   "execution_count": 5,
   "metadata": {},
   "outputs": [
    {
     "name": "stdout",
     "output_type": "stream",
     "text": [
      "    P+  P-  I  R\n",
      "P+   0   4  2  3\n",
      "P-   4   0  2  3\n",
      "I    2   2  0  2\n",
      "R    3   3  2  0\n"
     ]
    }
   ],
   "source": [
    "from helpers import print_scoretable\n",
    "from mcdalp.core.const import DEFAULT_SCORETABLE\n",
    "\n",
    "print_scoretable(DEFAULT_SCORETABLE)"
   ]
  },
  {
   "cell_type": "markdown",
   "metadata": {},
   "source": [
    "### Defining Score Table\n",
    "---\n",
    "\n",
    "To instantiate new score table you can use `Score` defined in `/core/score.py`."
   ]
  },
  {
   "cell_type": "code",
   "execution_count": 6,
   "metadata": {},
   "outputs": [
    {
     "name": "stdout",
     "output_type": "stream",
     "text": [
      "    P+  P-  I  R\n",
      "P+   0   4  2  3\n",
      "P-   4   0  2  3\n",
      "I    2   2  0  2\n",
      "R    3   3  2  0\n"
     ]
    }
   ],
   "source": [
    "from mcdalp.core.score import Score\n",
    "\n",
    "\n",
    "score = Score()\n",
    "score.show()"
   ]
  },
  {
   "cell_type": "markdown",
   "metadata": {},
   "source": [
    "In this framework you can also propose your own distance matrix variant. However you need to follow several simple constraints:\n",
    "\n",
    "1. You need to use proper relations to define `ScoreTable`\n",
    "2. Distance between same relations must equal 0\n",
    "3. It is needed to prove the same distance for the same relations in both ways\n",
    "4. The order in the ranking points must be maintained according to the default values"
   ]
  },
  {
   "cell_type": "code",
   "execution_count": 11,
   "metadata": {},
   "outputs": [
    {
     "name": "stdout",
     "output_type": "stream",
     "text": [
      "    P+  P-  I  R\n",
      "P+   0   7  1  5\n",
      "P-   7   0  1  5\n",
      "I    1   1  0  1\n",
      "R    5   5  1  0\n"
     ]
    }
   ],
   "source": [
    "from mcdalp.core.score import Score\n",
    "from mcdalp.core.relations import PositivePreference, NegativePreference, Indifference, Incomparible\n",
    "\n",
    "my_new_scoretable = {\n",
    "    PositivePreference: {\n",
    "        PositivePreference: 0,\n",
    "        NegativePreference: 7,\n",
    "        Indifference: 1,\n",
    "        Incomparible: 5\n",
    "    },\n",
    "    NegativePreference: {\n",
    "        PositivePreference: 7,\n",
    "        NegativePreference: 0,\n",
    "        Indifference: 1,\n",
    "        Incomparible: 5\n",
    "    },\n",
    "    Indifference: {\n",
    "        PositivePreference: 1,\n",
    "        NegativePreference: 1,\n",
    "        Indifference: 0,\n",
    "        Incomparible: 1\n",
    "    },\n",
    "    Incomparible: {\n",
    "        PositivePreference: 5,\n",
    "        NegativePreference: 5,\n",
    "        Indifference: 1,\n",
    "        Incomparible: 0\n",
    "    }\n",
    "}\n",
    "\n",
    "score = Score(score_matrix=my_new_scoretable)\n",
    "score.show()"
   ]
  },
  {
   "cell_type": "code",
   "execution_count": null,
   "metadata": {},
   "outputs": [],
   "source": []
  }
 ],
 "metadata": {
  "kernelspec": {
   "display_name": "venv",
   "language": "python",
   "name": "python3"
  },
  "language_info": {
   "codemirror_mode": {
    "name": "ipython",
    "version": 3
   },
   "file_extension": ".py",
   "mimetype": "text/x-python",
   "name": "python",
   "nbconvert_exporter": "python",
   "pygments_lexer": "ipython3",
   "version": "3.10.11"
  }
 },
 "nbformat": 4,
 "nbformat_minor": 2
}
