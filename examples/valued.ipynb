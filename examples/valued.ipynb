{
 "cells": [
  {
   "cell_type": "code",
   "execution_count": 2,
   "metadata": {},
   "outputs": [],
   "source": [
    "import numpy as np\n",
    "\n",
    "from mcdalp.core.credibility import ValuedCredibilityMatrix\n",
    "from mcdalp.core.score import Score\n",
    "from mcdalp.core.visualize.graph import Graph\n",
    "from mcdalp.outranking.valued_promethee import ValuedPrometheeOutranking\n",
    "from mcdalp.outranking.valued_electre import ValuedElectreOutranking"
   ]
  },
  {
   "cell_type": "markdown",
   "metadata": {},
   "source": [
    "Examples\n",
    "---\n",
    "Simple examples that creates either partial and complete rankings."
   ]
  },
  {
   "cell_type": "code",
   "execution_count": 3,
   "metadata": {},
   "outputs": [
    {
     "data": {
      "image/png": "[encoded data removed]",
      "text/plain": [
       "<Figure size 640x480 with 2 Axes>"
      ]
     },
     "metadata": {},
     "output_type": "display_data"
    }
   ],
   "source": [
    "simple1 = np.array([[1,0.7,1],[0.3,1,0.5],[0,0.5,1]], dtype=np.float32)\n",
    "l_simple1 = [\"A\", \"B\", \"C\"]\n",
    "c_simple1 = ValuedCredibilityMatrix(simple1)\n",
    "s_simple1 = Score()\n",
    "\n",
    "r_simple1 = ValuedElectreOutranking(c_simple1, s_simple1, l_simple1)\n",
    "r_simple1.solve(\"complete\")\n",
    "r_simple1.create_table(True)\n",
    "\n",
    "# o_simple1 = r_simple1.get_outranking(\"outranking\")\n",
    "\n",
    "# g_simple1 = Graph(o_simple1, l_simple1)\n",
    "# g_simple1.G"
   ]
  },
  {
   "cell_type": "code",
   "execution_count": 9,
   "metadata": {},
   "outputs": [
    {
     "data": {
      "image/svg+xml": [
       "<?xml version=\"1.0\" encoding=\"UTF-8\" standalone=\"no\"?>\n",
       "<!DOCTYPE svg PUBLIC \"-//W3C//DTD SVG 1.1//EN\"\n",
       " \"http://www.w3.org/Graphics/SVG/1.1/DTD/svg11.dtd\">\n",
       "<!-- Generated by graphviz version 8.0.5 (20230430.1635)\n",
       " -->\n",
       "<!-- Pages: 1 -->\n",
       "<svg width=\"69pt\" height=\"116pt\"\n",
       " viewBox=\"0.00 0.00 69.21 116.00\" xmlns=\"http://www.w3.org/2000/svg\" xmlns:xlink=\"http://www.w3.org/1999/xlink\">\n",
       "<g id=\"graph0\" class=\"graph\" transform=\"scale(1 1) rotate(0) translate(4 112)\">\n",
       "<polygon fill=\"white\" stroke=\"none\" points=\"-4,4 -4,-112 65.21,-112 65.21,4 -4,4\"/>\n",
       "<!-- A -->\n",
       "<g id=\"node1\" class=\"node\">\n",
       "<title>A</title>\n",
       "<ellipse fill=\"none\" stroke=\"black\" cx=\"30.61\" cy=\"-90\" rx=\"27\" ry=\"18\"/>\n",
       "<text text-anchor=\"middle\" x=\"30.61\" y=\"-84.58\" font-family=\"Times New Roman,serif\" font-size=\"14.00\">A</text>\n",
       "</g>\n",
       "<!-- B&amp;C -->\n",
       "<g id=\"node2\" class=\"node\">\n",
       "<title>B&amp;C</title>\n",
       "<ellipse fill=\"none\" stroke=\"black\" cx=\"30.61\" cy=\"-18\" rx=\"30.61\" ry=\"18\"/>\n",
       "<text text-anchor=\"middle\" x=\"30.61\" y=\"-12.57\" font-family=\"Times New Roman,serif\" font-size=\"14.00\">B&amp;C</text>\n",
       "</g>\n",
       "<!-- A&#45;&gt;B&amp;C -->\n",
       "<g id=\"edge1\" class=\"edge\">\n",
       "<title>A&#45;&gt;B&amp;C</title>\n",
       "<path fill=\"none\" stroke=\"black\" d=\"M30.61,-71.7C30.61,-64.24 30.61,-55.32 30.61,-46.97\"/>\n",
       "<polygon fill=\"black\" stroke=\"black\" points=\"34.11,-47.1 30.61,-37.1 27.11,-47.1 34.11,-47.1\"/>\n",
       "</g>\n",
       "</g>\n",
       "</svg>\n"
      ],
      "text/plain": [
       "<graphviz.graphs.Digraph at 0x2a8f9092580>"
      ]
     },
     "execution_count": 9,
     "metadata": {},
     "output_type": "execute_result"
    }
   ],
   "source": [
    "simple2 = np.array([[1,0.9,0.85],[0.1,1,0],[0.05,0,1]], dtype=np.float32)\n",
    "l_simple2 = [\"A\", \"B\", \"C\"]\n",
    "c_simple2 = ValuedCredibilityMatrix(simple2)\n",
    "s_simple2 = Score()\n",
    "\n",
    "r_simple2 = ValuedPrometheeOutranking(c_simple2, s_simple2)\n",
    "r_simple2.solve_partial()\n",
    "\n",
    "o_simple2 = r_simple2.get_outranking(\"outranking\")\n",
    "\n",
    "g_simple2 = Graph(o_simple2, l_simple2)\n",
    "g_simple2.G"
   ]
  },
  {
   "cell_type": "code",
   "execution_count": 11,
   "metadata": {},
   "outputs": [
    {
     "data": {
      "image/svg+xml": [
       "<?xml version=\"1.0\" encoding=\"UTF-8\" standalone=\"no\"?>\n",
       "<!DOCTYPE svg PUBLIC \"-//W3C//DTD SVG 1.1//EN\"\n",
       " \"http://www.w3.org/Graphics/SVG/1.1/DTD/svg11.dtd\">\n",
       "<!-- Generated by graphviz version 8.0.5 (20230430.1635)\n",
       " -->\n",
       "<!-- Pages: 1 -->\n",
       "<svg width=\"121pt\" height=\"404pt\"\n",
       " viewBox=\"0.00 0.00 121.11 404.00\" xmlns=\"http://www.w3.org/2000/svg\" xmlns:xlink=\"http://www.w3.org/1999/xlink\">\n",
       "<g id=\"graph0\" class=\"graph\" transform=\"scale(1 1) rotate(0) translate(4 400)\">\n",
       "<polygon fill=\"white\" stroke=\"none\" points=\"-4,4 -4,-400 117.11,-400 117.11,4 -4,4\"/>\n",
       "<!-- A -->\n",
       "<g id=\"node1\" class=\"node\">\n",
       "<title>A</title>\n",
       "<ellipse fill=\"none\" stroke=\"black\" cx=\"56.55\" cy=\"-378\" rx=\"27\" ry=\"18\"/>\n",
       "<text text-anchor=\"middle\" x=\"56.55\" y=\"-372.57\" font-family=\"Times New Roman,serif\" font-size=\"14.00\">A</text>\n",
       "</g>\n",
       "<!-- N -->\n",
       "<g id=\"node5\" class=\"node\">\n",
       "<title>N</title>\n",
       "<ellipse fill=\"none\" stroke=\"black\" cx=\"56.55\" cy=\"-306\" rx=\"27\" ry=\"18\"/>\n",
       "<text text-anchor=\"middle\" x=\"56.55\" y=\"-300.57\" font-family=\"Times New Roman,serif\" font-size=\"14.00\">N</text>\n",
       "</g>\n",
       "<!-- A&#45;&gt;N -->\n",
       "<g id=\"edge1\" class=\"edge\">\n",
       "<title>A&#45;&gt;N</title>\n",
       "<path fill=\"none\" stroke=\"black\" d=\"M56.55,-359.7C56.55,-352.24 56.55,-343.32 56.55,-334.97\"/>\n",
       "<polygon fill=\"black\" stroke=\"black\" points=\"60.05,-335.1 56.55,-325.1 53.05,-335.1 60.05,-335.1\"/>\n",
       "</g>\n",
       "<!-- B&amp;I -->\n",
       "<g id=\"node2\" class=\"node\">\n",
       "<title>B&amp;I</title>\n",
       "<ellipse fill=\"none\" stroke=\"black\" cx=\"56.55\" cy=\"-234\" rx=\"27.11\" ry=\"18\"/>\n",
       "<text text-anchor=\"middle\" x=\"56.55\" y=\"-228.57\" font-family=\"Times New Roman,serif\" font-size=\"14.00\">B&amp;I</text>\n",
       "</g>\n",
       "<!-- J&amp;M&amp;E&amp;R -->\n",
       "<g id=\"node3\" class=\"node\">\n",
       "<title>J&amp;M&amp;E&amp;R</title>\n",
       "<ellipse fill=\"none\" stroke=\"black\" cx=\"56.55\" cy=\"-162\" rx=\"56.55\" ry=\"18\"/>\n",
       "<text text-anchor=\"middle\" x=\"56.55\" y=\"-156.57\" font-family=\"Times New Roman,serif\" font-size=\"14.00\">J&amp;M&amp;E&amp;R</text>\n",
       "</g>\n",
       "<!-- B&amp;I&#45;&gt;J&amp;M&amp;E&amp;R -->\n",
       "<g id=\"edge2\" class=\"edge\">\n",
       "<title>B&amp;I&#45;&gt;J&amp;M&amp;E&amp;R</title>\n",
       "<path fill=\"none\" stroke=\"black\" d=\"M56.55,-215.7C56.55,-208.24 56.55,-199.32 56.55,-190.97\"/>\n",
       "<polygon fill=\"black\" stroke=\"black\" points=\"60.05,-191.1 56.55,-181.1 53.05,-191.1 60.05,-191.1\"/>\n",
       "</g>\n",
       "<!-- V -->\n",
       "<g id=\"node6\" class=\"node\">\n",
       "<title>V</title>\n",
       "<ellipse fill=\"none\" stroke=\"black\" cx=\"56.55\" cy=\"-90\" rx=\"27\" ry=\"18\"/>\n",
       "<text text-anchor=\"middle\" x=\"56.55\" y=\"-84.58\" font-family=\"Times New Roman,serif\" font-size=\"14.00\">V</text>\n",
       "</g>\n",
       "<!-- J&amp;M&amp;E&amp;R&#45;&gt;V -->\n",
       "<g id=\"edge3\" class=\"edge\">\n",
       "<title>J&amp;M&amp;E&amp;R&#45;&gt;V</title>\n",
       "<path fill=\"none\" stroke=\"black\" d=\"M56.55,-143.7C56.55,-136.24 56.55,-127.32 56.55,-118.97\"/>\n",
       "<polygon fill=\"black\" stroke=\"black\" points=\"60.05,-119.1 56.55,-109.1 53.05,-119.1 60.05,-119.1\"/>\n",
       "</g>\n",
       "<!-- T -->\n",
       "<g id=\"node4\" class=\"node\">\n",
       "<title>T</title>\n",
       "<ellipse fill=\"none\" stroke=\"black\" cx=\"56.55\" cy=\"-18\" rx=\"27\" ry=\"18\"/>\n",
       "<text text-anchor=\"middle\" x=\"56.55\" y=\"-12.57\" font-family=\"Times New Roman,serif\" font-size=\"14.00\">T</text>\n",
       "</g>\n",
       "<!-- N&#45;&gt;B&amp;I -->\n",
       "<g id=\"edge4\" class=\"edge\">\n",
       "<title>N&#45;&gt;B&amp;I</title>\n",
       "<path fill=\"none\" stroke=\"black\" d=\"M56.55,-287.7C56.55,-280.24 56.55,-271.32 56.55,-262.97\"/>\n",
       "<polygon fill=\"black\" stroke=\"black\" points=\"60.05,-263.1 56.55,-253.1 53.05,-263.1 60.05,-263.1\"/>\n",
       "</g>\n",
       "<!-- V&#45;&gt;T -->\n",
       "<g id=\"edge5\" class=\"edge\">\n",
       "<title>V&#45;&gt;T</title>\n",
       "<path fill=\"none\" stroke=\"black\" d=\"M56.55,-71.7C56.55,-64.24 56.55,-55.32 56.55,-46.97\"/>\n",
       "<polygon fill=\"black\" stroke=\"black\" points=\"60.05,-47.1 56.55,-37.1 53.05,-47.1 60.05,-47.1\"/>\n",
       "</g>\n",
       "</g>\n",
       "</svg>\n"
      ],
      "text/plain": [
       "<graphviz.graphs.Digraph at 0x2a8f90b2f10>"
      ]
     },
     "execution_count": 11,
     "metadata": {},
     "output_type": "execute_result"
    }
   ],
   "source": [
    "simple2 = np.array([\n",
    "    [1.0,1.0,1.0,0.0,1.0,0.7,1.0,1.0,1.0,1.0],\n",
    "    [0.0,1.0,0.4,0.0,1.0,0.7,1.0,0.0,1.0,1.0],\n",
    "    [0.0,0.0,1.0,0.0,0.0,0.7,1.0,0.0,1.0,1.0],\n",
    "    [0.0,0.0,0.0,1.0,0.0,0.0,0.0,0.0,0.0,0.0],\n",
    "    [0.0,0.0,0.0,0.0,1.0,0.0,0.0,0.0,0.0,0.0],\n",
    "    [0.0,0.0,0.0,0.0,1.0,1.0,0.0,0.0,0.0,1.0],\n",
    "    [0.0,1.0,0.7,0.0,1.0,1.0,1.0,0.0,0.0,1.0],\n",
    "    [0.0,1.0,0.4,0.0,1.0,1.0,0.0,1.0,1.0,1.0],\n",
    "    [0.0,0.7,0.4,0.0,0.7,0.0,0.0,0.0,1.0,0.7],\n",
    "    [0.0,0.0,0.4,0.0,1.0,0.4,0.0,0.0,0.0,1.0]], dtype=np.float32)\n",
    "l_simple2 = [\"A\", \"B\", \"I\", \"J\", \"T\", \"M\", \"E\", \"N\", \"R\", \"V\"]\n",
    "c_simple2 = ValuedCredibilityMatrix(simple2)\n",
    "s_simple2 = Score()\n",
    "\n",
    "r_simple2 = ValuedPrometheeOutranking(c_simple2, s_simple2)\n",
    "r_simple2.solve_partial()\n",
    "\n",
    "o_simple2 = r_simple2.get_outranking(\"outranking\")\n",
    "\n",
    "g_simple2 = Graph(o_simple2, l_simple2)\n",
    "g_simple2.G"
   ]
  },
  {
   "cell_type": "markdown",
   "metadata": {},
   "source": [
    "## Valued ELECTRE"
   ]
  },
  {
   "cell_type": "code",
   "execution_count": 14,
   "metadata": {},
   "outputs": [
    {
     "name": "stdout",
     "output_type": "stream",
     "text": [
      "POSITIVE PREFERENCE MATRIX\n",
      "[[0.         0.6        0.3        0.7        0.39999998]\n",
      " [0.         0.         0.2        0.         0.        ]\n",
      " [0.58       0.6        0.         0.39999998 0.        ]\n",
      " [0.3        0.         0.14999998 0.         0.3       ]\n",
      " [0.45       0.         0.6        0.42000002 0.        ]]\n",
      "NEGATIVE PREFERENCE MATRIX\n",
      "[[0.         0.         0.58       0.3        0.45      ]\n",
      " [0.6        0.         0.6        0.         0.        ]\n",
      " [0.3        0.2        0.         0.14999998 0.6       ]\n",
      " [0.7        0.         0.39999998 0.         0.42000002]\n",
      " [0.39999998 0.         0.         0.3        0.        ]]\n",
      "INDIFFERENCE MATRIX\n",
      "[[1.   0.   0.3  0.3  0.55]\n",
      " [0.   1.   0.2  0.   0.  ]\n",
      " [0.3  0.2  1.   0.6  0.  ]\n",
      " [0.3  0.   0.6  1.   0.58]\n",
      " [0.55 0.   0.   0.58 1.  ]]\n",
      "INCOMPARIBLE MATRIX\n",
      "[[0.         0.39999998 0.42000002 0.3        0.39999998]\n",
      " [0.39999998 0.         0.39999998 1.         1.        ]\n",
      " [0.42000002 0.39999998 0.         0.14999998 0.39999998]\n",
      " [0.3        1.         0.14999998 0.         0.3       ]\n",
      " [0.39999998 1.         0.39999998 0.3        0.        ]]\n",
      "Status: Optimal\n",
      "\n",
      "OrderedDict([('Positive_preference__0_1_', 1*outranking_0_1 + -1*outranking_1_0 + -1*pp_0_1 + 0 <= 0), ('Negative_preference__0_1_', -1*outranking_0_1 + 1*outranking_1_0 + -1*pn_0_1 + 0 <= 0), ('Indifference__0_1_', -1*i_0_1 + 1*outranking_0_1 + 1*outranking_1_0 + -1 <= 0), ('Incomparability__0_1_', -1*outranking_0_1 + -1*outranking_1_0 + -1*r_0_1 + 1 <= 0), ('Only_one_relation__0,_1_', 1*i_0_1 + 1*pn_0_1 + 1*pp_0_1 + 1*r_0_1 + -1 = 0), ('Positive_preference__0_2_', 1*outranking_0_2 + -1*outranking_2_0 + -1*pp_0_2 + 0 <= 0), ('Negative_preference__0_2_', -1*outranking_0_2 + 1*outranking_2_0 + -1*pn_0_2 + 0 <= 0), ('Indifference__0_2_', -1*i_0_2 + 1*outranking_0_2 + 1*outranking_2_0 + -1 <= 0), ('Incomparability__0_2_', -1*outranking_0_2 + -1*outranking_2_0 + -1*r_0_2 + 1 <= 0), ('Only_one_relation__0,_2_', 1*i_0_2 + 1*pn_0_2 + 1*pp_0_2 + 1*r_0_2 + -1 = 0), ('Positive_preference__0_3_', 1*outranking_0_3 + -1*outranking_3_0 + -1*pp_0_3 + 0 <= 0), ('Negative_preference__0_3_', -1*outranking_0_3 + 1*outranking_3_0 + -1*pn_0_3 + 0 <= 0), ('Indifference__0_3_', -1*i_0_3 + 1*outranking_0_3 + 1*outranking_3_0 + -1 <= 0), ('Incomparability__0_3_', -1*outranking_0_3 + -1*outranking_3_0 + -1*r_0_3 + 1 <= 0), ('Only_one_relation__0,_3_', 1*i_0_3 + 1*pn_0_3 + 1*pp_0_3 + 1*r_0_3 + -1 = 0), ('Positive_preference__0_4_', 1*outranking_0_4 + -1*outranking_4_0 + -1*pp_0_4 + 0 <= 0), ('Negative_preference__0_4_', -1*outranking_0_4 + 1*outranking_4_0 + -1*pn_0_4 + 0 <= 0), ('Indifference__0_4_', -1*i_0_4 + 1*outranking_0_4 + 1*outranking_4_0 + -1 <= 0), ('Incomparability__0_4_', -1*outranking_0_4 + -1*outranking_4_0 + -1*r_0_4 + 1 <= 0), ('Only_one_relation__0,_4_', 1*i_0_4 + 1*pn_0_4 + 1*pp_0_4 + 1*r_0_4 + -1 = 0), ('Positive_preference__1_0_', -1*outranking_0_1 + 1*outranking_1_0 + -1*pp_1_0 + 0 <= 0), ('Negative_preference__1_0_', 1*outranking_0_1 + -1*outranking_1_0 + -1*pn_1_0 + 0 <= 0), ('Indifference__1_0_', -1*i_1_0 + 1*outranking_0_1 + 1*outranking_1_0 + -1 <= 0), ('Incomparability__1_0_', -1*outranking_0_1 + -1*outranking_1_0 + -1*r_1_0 + 1 <= 0), ('Only_one_relation__1,_0_', 1*i_1_0 + 1*pn_1_0 + 1*pp_1_0 + 1*r_1_0 + -1 = 0), ('Positive_preference__1_2_', 1*outranking_1_2 + -1*outranking_2_1 + -1*pp_1_2 + 0 <= 0), ('Negative_preference__1_2_', -1*outranking_1_2 + 1*outranking_2_1 + -1*pn_1_2 + 0 <= 0), ('Indifference__1_2_', -1*i_1_2 + 1*outranking_1_2 + 1*outranking_2_1 + -1 <= 0), ('Incomparability__1_2_', -1*outranking_1_2 + -1*outranking_2_1 + -1*r_1_2 + 1 <= 0), ('Only_one_relation__1,_2_', 1*i_1_2 + 1*pn_1_2 + 1*pp_1_2 + 1*r_1_2 + -1 = 0), ('Positive_preference__1_3_', 1*outranking_1_3 + -1*outranking_3_1 + -1*pp_1_3 + 0 <= 0), ('Negative_preference__1_3_', -1*outranking_1_3 + 1*outranking_3_1 + -1*pn_1_3 + 0 <= 0), ('Indifference__1_3_', -1*i_1_3 + 1*outranking_1_3 + 1*outranking_3_1 + -1 <= 0), ('Incomparability__1_3_', -1*outranking_1_3 + -1*outranking_3_1 + -1*r_1_3 + 1 <= 0), ('Only_one_relation__1,_3_', 1*i_1_3 + 1*pn_1_3 + 1*pp_1_3 + 1*r_1_3 + -1 = 0), ('Positive_preference__1_4_', 1*outranking_1_4 + -1*outranking_4_1 + -1*pp_1_4 + 0 <= 0), ('Negative_preference__1_4_', -1*outranking_1_4 + 1*outranking_4_1 + -1*pn_1_4 + 0 <= 0), ('Indifference__1_4_', -1*i_1_4 + 1*outranking_1_4 + 1*outranking_4_1 + -1 <= 0), ('Incomparability__1_4_', -1*outranking_1_4 + -1*outranking_4_1 + -1*r_1_4 + 1 <= 0), ('Only_one_relation__1,_4_', 1*i_1_4 + 1*pn_1_4 + 1*pp_1_4 + 1*r_1_4 + -1 = 0), ('Positive_preference__2_0_', -1*outranking_0_2 + 1*outranking_2_0 + -1*pp_2_0 + 0 <= 0), ('Negative_preference__2_0_', 1*outranking_0_2 + -1*outranking_2_0 + -1*pn_2_0 + 0 <= 0), ('Indifference__2_0_', -1*i_2_0 + 1*outranking_0_2 + 1*outranking_2_0 + -1 <= 0), ('Incomparability__2_0_', -1*outranking_0_2 + -1*outranking_2_0 + -1*r_2_0 + 1 <= 0), ('Only_one_relation__2,_0_', 1*i_2_0 + 1*pn_2_0 + 1*pp_2_0 + 1*r_2_0 + -1 = 0), ('Positive_preference__2_1_', -1*outranking_1_2 + 1*outranking_2_1 + -1*pp_2_1 + 0 <= 0), ('Negative_preference__2_1_', 1*outranking_1_2 + -1*outranking_2_1 + -1*pn_2_1 + 0 <= 0), ('Indifference__2_1_', -1*i_2_1 + 1*outranking_1_2 + 1*outranking_2_1 + -1 <= 0), ('Incomparability__2_1_', -1*outranking_1_2 + -1*outranking_2_1 + -1*r_2_1 + 1 <= 0), ('Only_one_relation__2,_1_', 1*i_2_1 + 1*pn_2_1 + 1*pp_2_1 + 1*r_2_1 + -1 = 0), ('Positive_preference__2_3_', 1*outranking_2_3 + -1*outranking_3_2 + -1*pp_2_3 + 0 <= 0), ('Negative_preference__2_3_', -1*outranking_2_3 + 1*outranking_3_2 + -1*pn_2_3 + 0 <= 0), ('Indifference__2_3_', -1*i_2_3 + 1*outranking_2_3 + 1*outranking_3_2 + -1 <= 0), ('Incomparability__2_3_', -1*outranking_2_3 + -1*outranking_3_2 + -1*r_2_3 + 1 <= 0), ('Only_one_relation__2,_3_', 1*i_2_3 + 1*pn_2_3 + 1*pp_2_3 + 1*r_2_3 + -1 = 0), ('Positive_preference__2_4_', 1*outranking_2_4 + -1*outranking_4_2 + -1*pp_2_4 + 0 <= 0), ('Negative_preference__2_4_', -1*outranking_2_4 + 1*outranking_4_2 + -1*pn_2_4 + 0 <= 0), ('Indifference__2_4_', -1*i_2_4 + 1*outranking_2_4 + 1*outranking_4_2 + -1 <= 0), ('Incomparability__2_4_', -1*outranking_2_4 + -1*outranking_4_2 + -1*r_2_4 + 1 <= 0), ('Only_one_relation__2,_4_', 1*i_2_4 + 1*pn_2_4 + 1*pp_2_4 + 1*r_2_4 + -1 = 0), ('Positive_preference__3_0_', -1*outranking_0_3 + 1*outranking_3_0 + -1*pp_3_0 + 0 <= 0), ('Negative_preference__3_0_', 1*outranking_0_3 + -1*outranking_3_0 + -1*pn_3_0 + 0 <= 0), ('Indifference__3_0_', -1*i_3_0 + 1*outranking_0_3 + 1*outranking_3_0 + -1 <= 0), ('Incomparability__3_0_', -1*outranking_0_3 + -1*outranking_3_0 + -1*r_3_0 + 1 <= 0), ('Only_one_relation__3,_0_', 1*i_3_0 + 1*pn_3_0 + 1*pp_3_0 + 1*r_3_0 + -1 = 0), ('Positive_preference__3_1_', -1*outranking_1_3 + 1*outranking_3_1 + -1*pp_3_1 + 0 <= 0), ('Negative_preference__3_1_', 1*outranking_1_3 + -1*outranking_3_1 + -1*pn_3_1 + 0 <= 0), ('Indifference__3_1_', -1*i_3_1 + 1*outranking_1_3 + 1*outranking_3_1 + -1 <= 0), ('Incomparability__3_1_', -1*outranking_1_3 + -1*outranking_3_1 + -1*r_3_1 + 1 <= 0), ('Only_one_relation__3,_1_', 1*i_3_1 + 1*pn_3_1 + 1*pp_3_1 + 1*r_3_1 + -1 = 0), ('Positive_preference__3_2_', -1*outranking_2_3 + 1*outranking_3_2 + -1*pp_3_2 + 0 <= 0), ('Negative_preference__3_2_', 1*outranking_2_3 + -1*outranking_3_2 + -1*pn_3_2 + 0 <= 0), ('Indifference__3_2_', -1*i_3_2 + 1*outranking_2_3 + 1*outranking_3_2 + -1 <= 0), ('Incomparability__3_2_', -1*outranking_2_3 + -1*outranking_3_2 + -1*r_3_2 + 1 <= 0), ('Only_one_relation__3,_2_', 1*i_3_2 + 1*pn_3_2 + 1*pp_3_2 + 1*r_3_2 + -1 = 0), ('Positive_preference__3_4_', 1*outranking_3_4 + -1*outranking_4_3 + -1*pp_3_4 + 0 <= 0), ('Negative_preference__3_4_', -1*outranking_3_4 + 1*outranking_4_3 + -1*pn_3_4 + 0 <= 0), ('Indifference__3_4_', -1*i_3_4 + 1*outranking_3_4 + 1*outranking_4_3 + -1 <= 0), ('Incomparability__3_4_', -1*outranking_3_4 + -1*outranking_4_3 + -1*r_3_4 + 1 <= 0), ('Only_one_relation__3,_4_', 1*i_3_4 + 1*pn_3_4 + 1*pp_3_4 + 1*r_3_4 + -1 = 0), ('Positive_preference__4_0_', -1*outranking_0_4 + 1*outranking_4_0 + -1*pp_4_0 + 0 <= 0), ('Negative_preference__4_0_', 1*outranking_0_4 + -1*outranking_4_0 + -1*pn_4_0 + 0 <= 0), ('Indifference__4_0_', -1*i_4_0 + 1*outranking_0_4 + 1*outranking_4_0 + -1 <= 0), ('Incomparability__4_0_', -1*outranking_0_4 + -1*outranking_4_0 + -1*r_4_0 + 1 <= 0), ('Only_one_relation__4,_0_', 1*i_4_0 + 1*pn_4_0 + 1*pp_4_0 + 1*r_4_0 + -1 = 0), ('Positive_preference__4_1_', -1*outranking_1_4 + 1*outranking_4_1 + -1*pp_4_1 + 0 <= 0), ('Negative_preference__4_1_', 1*outranking_1_4 + -1*outranking_4_1 + -1*pn_4_1 + 0 <= 0), ('Indifference__4_1_', -1*i_4_1 + 1*outranking_1_4 + 1*outranking_4_1 + -1 <= 0), ('Incomparability__4_1_', -1*outranking_1_4 + -1*outranking_4_1 + -1*r_4_1 + 1 <= 0), ('Only_one_relation__4,_1_', 1*i_4_1 + 1*pn_4_1 + 1*pp_4_1 + 1*r_4_1 + -1 = 0), ('Positive_preference__4_2_', -1*outranking_2_4 + 1*outranking_4_2 + -1*pp_4_2 + 0 <= 0), ('Negative_preference__4_2_', 1*outranking_2_4 + -1*outranking_4_2 + -1*pn_4_2 + 0 <= 0), ('Indifference__4_2_', -1*i_4_2 + 1*outranking_2_4 + 1*outranking_4_2 + -1 <= 0), ('Incomparability__4_2_', -1*outranking_2_4 + -1*outranking_4_2 + -1*r_4_2 + 1 <= 0), ('Only_one_relation__4,_2_', 1*i_4_2 + 1*pn_4_2 + 1*pp_4_2 + 1*r_4_2 + -1 = 0), ('Positive_preference__4_3_', -1*outranking_3_4 + 1*outranking_4_3 + -1*pp_4_3 + 0 <= 0), ('Negative_preference__4_3_', 1*outranking_3_4 + -1*outranking_4_3 + -1*pn_4_3 + 0 <= 0), ('Indifference__4_3_', -1*i_4_3 + 1*outranking_3_4 + 1*outranking_4_3 + -1 <= 0), ('Incomparability__4_3_', -1*outranking_3_4 + -1*outranking_4_3 + -1*r_4_3 + 1 <= 0), ('Only_one_relation__4,_3_', 1*i_4_3 + 1*pn_4_3 + 1*pp_4_3 + 1*r_4_3 + -1 = 0), ('Transitivity__0_1_2_', 1*outranking_0_1 + -1*outranking_0_2 + -1*outranking_2_1 + 1.5 >= 0), ('Transitivity__0_1_3_', 1*outranking_0_1 + -1*outranking_0_3 + -1*outranking_3_1 + 1.5 >= 0), ('Transitivity__0_1_4_', 1*outranking_0_1 + -1*outranking_0_4 + -1*outranking_4_1 + 1.5 >= 0), ('Transitivity__0_2_1_', -1*outranking_0_1 + 1*outranking_0_2 + -1*outranking_1_2 + 1.5 >= 0), ('Transitivity__0_2_3_', 1*outranking_0_2 + -1*outranking_0_3 + -1*outranking_3_2 + 1.5 >= 0), ('Transitivity__0_2_4_', 1*outranking_0_2 + -1*outranking_0_4 + -1*outranking_4_2 + 1.5 >= 0), ('Transitivity__0_3_1_', -1*outranking_0_1 + 1*outranking_0_3 + -1*outranking_1_3 + 1.5 >= 0), ('Transitivity__0_3_2_', -1*outranking_0_2 + 1*outranking_0_3 + -1*outranking_2_3 + 1.5 >= 0), ('Transitivity__0_3_4_', 1*outranking_0_3 + -1*outranking_0_4 + -1*outranking_4_3 + 1.5 >= 0), ('Transitivity__0_4_1_', -1*outranking_0_1 + 1*outranking_0_4 + -1*outranking_1_4 + 1.5 >= 0), ('Transitivity__0_4_2_', -1*outranking_0_2 + 1*outranking_0_4 + -1*outranking_2_4 + 1.5 >= 0), ('Transitivity__0_4_3_', -1*outranking_0_3 + 1*outranking_0_4 + -1*outranking_3_4 + 1.5 >= 0), ('Transitivity__1_0_2_', 1*outranking_1_0 + -1*outranking_1_2 + -1*outranking_2_0 + 1.5 >= 0), ('Transitivity__1_0_3_', 1*outranking_1_0 + -1*outranking_1_3 + -1*outranking_3_0 + 1.5 >= 0), ('Transitivity__1_0_4_', 1*outranking_1_0 + -1*outranking_1_4 + -1*outranking_4_0 + 1.5 >= 0), ('Transitivity__1_2_0_', -1*outranking_0_2 + -1*outranking_1_0 + 1*outranking_1_2 + 1.5 >= 0), ('Transitivity__1_2_3_', 1*outranking_1_2 + -1*outranking_1_3 + -1*outranking_3_2 + 1.5 >= 0), ('Transitivity__1_2_4_', 1*outranking_1_2 + -1*outranking_1_4 + -1*outranking_4_2 + 1.5 >= 0), ('Transitivity__1_3_0_', -1*outranking_0_3 + -1*outranking_1_0 + 1*outranking_1_3 + 1.5 >= 0), ('Transitivity__1_3_2_', -1*outranking_1_2 + 1*outranking_1_3 + -1*outranking_2_3 + 1.5 >= 0), ('Transitivity__1_3_4_', 1*outranking_1_3 + -1*outranking_1_4 + -1*outranking_4_3 + 1.5 >= 0), ('Transitivity__1_4_0_', -1*outranking_0_4 + -1*outranking_1_0 + 1*outranking_1_4 + 1.5 >= 0), ('Transitivity__1_4_2_', -1*outranking_1_2 + 1*outranking_1_4 + -1*outranking_2_4 + 1.5 >= 0), ('Transitivity__1_4_3_', -1*outranking_1_3 + 1*outranking_1_4 + -1*outranking_3_4 + 1.5 >= 0), ('Transitivity__2_0_1_', -1*outranking_1_0 + 1*outranking_2_0 + -1*outranking_2_1 + 1.5 >= 0), ('Transitivity__2_0_3_', 1*outranking_2_0 + -1*outranking_2_3 + -1*outranking_3_0 + 1.5 >= 0), ('Transitivity__2_0_4_', 1*outranking_2_0 + -1*outranking_2_4 + -1*outranking_4_0 + 1.5 >= 0), ('Transitivity__2_1_0_', -1*outranking_0_1 + -1*outranking_2_0 + 1*outranking_2_1 + 1.5 >= 0), ('Transitivity__2_1_3_', 1*outranking_2_1 + -1*outranking_2_3 + -1*outranking_3_1 + 1.5 >= 0), ('Transitivity__2_1_4_', 1*outranking_2_1 + -1*outranking_2_4 + -1*outranking_4_1 + 1.5 >= 0), ('Transitivity__2_3_0_', -1*outranking_0_3 + -1*outranking_2_0 + 1*outranking_2_3 + 1.5 >= 0), ('Transitivity__2_3_1_', -1*outranking_1_3 + -1*outranking_2_1 + 1*outranking_2_3 + 1.5 >= 0), ('Transitivity__2_3_4_', 1*outranking_2_3 + -1*outranking_2_4 + -1*outranking_4_3 + 1.5 >= 0), ('Transitivity__2_4_0_', -1*outranking_0_4 + -1*outranking_2_0 + 1*outranking_2_4 + 1.5 >= 0), ('Transitivity__2_4_1_', -1*outranking_1_4 + -1*outranking_2_1 + 1*outranking_2_4 + 1.5 >= 0), ('Transitivity__2_4_3_', -1*outranking_2_3 + 1*outranking_2_4 + -1*outranking_3_4 + 1.5 >= 0), ('Transitivity__3_0_1_', -1*outranking_1_0 + 1*outranking_3_0 + -1*outranking_3_1 + 1.5 >= 0), ('Transitivity__3_0_2_', -1*outranking_2_0 + 1*outranking_3_0 + -1*outranking_3_2 + 1.5 >= 0), ('Transitivity__3_0_4_', 1*outranking_3_0 + -1*outranking_3_4 + -1*outranking_4_0 + 1.5 >= 0), ('Transitivity__3_1_0_', -1*outranking_0_1 + -1*outranking_3_0 + 1*outranking_3_1 + 1.5 >= 0), ('Transitivity__3_1_2_', -1*outranking_2_1 + 1*outranking_3_1 + -1*outranking_3_2 + 1.5 >= 0), ('Transitivity__3_1_4_', 1*outranking_3_1 + -1*outranking_3_4 + -1*outranking_4_1 + 1.5 >= 0), ('Transitivity__3_2_0_', -1*outranking_0_2 + -1*outranking_3_0 + 1*outranking_3_2 + 1.5 >= 0), ('Transitivity__3_2_1_', -1*outranking_1_2 + -1*outranking_3_1 + 1*outranking_3_2 + 1.5 >= 0), ('Transitivity__3_2_4_', 1*outranking_3_2 + -1*outranking_3_4 + -1*outranking_4_2 + 1.5 >= 0), ('Transitivity__3_4_0_', -1*outranking_0_4 + -1*outranking_3_0 + 1*outranking_3_4 + 1.5 >= 0), ('Transitivity__3_4_1_', -1*outranking_1_4 + -1*outranking_3_1 + 1*outranking_3_4 + 1.5 >= 0), ('Transitivity__3_4_2_', -1*outranking_2_4 + -1*outranking_3_2 + 1*outranking_3_4 + 1.5 >= 0), ('Transitivity__4_0_1_', -1*outranking_1_0 + 1*outranking_4_0 + -1*outranking_4_1 + 1.5 >= 0), ('Transitivity__4_0_2_', -1*outranking_2_0 + 1*outranking_4_0 + -1*outranking_4_2 + 1.5 >= 0), ('Transitivity__4_0_3_', -1*outranking_3_0 + 1*outranking_4_0 + -1*outranking_4_3 + 1.5 >= 0), ('Transitivity__4_1_0_', -1*outranking_0_1 + -1*outranking_4_0 + 1*outranking_4_1 + 1.5 >= 0), ('Transitivity__4_1_2_', -1*outranking_2_1 + 1*outranking_4_1 + -1*outranking_4_2 + 1.5 >= 0), ('Transitivity__4_1_3_', -1*outranking_3_1 + 1*outranking_4_1 + -1*outranking_4_3 + 1.5 >= 0), ('Transitivity__4_2_0_', -1*outranking_0_2 + -1*outranking_4_0 + 1*outranking_4_2 + 1.5 >= 0), ('Transitivity__4_2_1_', -1*outranking_1_2 + -1*outranking_4_1 + 1*outranking_4_2 + 1.5 >= 0), ('Transitivity__4_2_3_', -1*outranking_3_2 + 1*outranking_4_2 + -1*outranking_4_3 + 1.5 >= 0), ('Transitivity__4_3_0_', -1*outranking_0_3 + -1*outranking_4_0 + 1*outranking_4_3 + 1.5 >= 0), ('Transitivity__4_3_1_', -1*outranking_1_3 + -1*outranking_4_1 + 1*outranking_4_3 + 1.5 >= 0), ('Transitivity__4_3_2_', -1*outranking_2_3 + -1*outranking_4_2 + 1*outranking_4_3 + 1.5 >= 0)])\n",
      "\n",
      "Matrix pp:\n",
      "[[1. 0. 0. 0. 0.]\n",
      " [0. 1. 0. 0. 0.]\n",
      " [0. 0. 1. 0. 0.]\n",
      " [0. 0. 0. 1. 0.]\n",
      " [0. 0. 0. 0. 1.]]\n",
      "\n",
      "Matrix outranking:\n",
      "[[1. 0. 1. 1. 1.]\n",
      " [0. 1. 0. 0. 0.]\n",
      " [1. 0. 1. 1. 1.]\n",
      " [1. 0. 1. 1. 1.]\n",
      " [1. 0. 1. 1. 1.]]\n",
      "\n",
      "Matrix pn:\n",
      "[[1. 0. 0. 0. 0.]\n",
      " [0. 1. 0. 0. 0.]\n",
      " [0. 0. 1. 0. 0.]\n",
      " [0. 0. 0. 1. 0.]\n",
      " [0. 0. 0. 0. 1.]]\n",
      "\n",
      "Matrix r:\n",
      "[[1. 1. 0. 0. 0.]\n",
      " [1. 1. 1. 1. 1.]\n",
      " [0. 1. 1. 0. 0.]\n",
      " [0. 1. 0. 1. 0.]\n",
      " [0. 1. 0. 0. 1.]]\n",
      "\n",
      "Matrix i:\n",
      "[[1. 0. 1. 1. 1.]\n",
      " [0. 1. 0. 0. 0.]\n",
      " [1. 0. 1. 1. 1.]\n",
      " [1. 0. 1. 1. 1.]\n",
      " [1. 0. 1. 1. 1.]]\n",
      "\n",
      "Objective function: 2.0*i_0_1 + 2.600000023841858*i_0_2 + 2.600000023841858*i_0_3 + 2.4999998807907104*i_0_4 + 2.4000000059604645*i_1_2 + 2.0*i_1_3 + 2.0*i_1_4 + 1.3999998569488525*i_2_3 + 2.0*i_2_4 + 2.040000081062317*i_3_4 + 3.600000023841858*pn_0_1 + 3.0600001215934753*pn_0_2 + 4.300000011920929*pn_0_3 + 3.8999998569488525*pn_0_4 + 2.3999999463558197*pn_1_2 + 3.0*pn_1_3 + 3.0*pn_1_4 + 3.2499998807907104*pn_2_3 + 1.1999999284744263*pn_2_4 + 3.2600000500679016*pn_3_4 + 1.1999999284744263*pp_0_1 + 4.180000007152557*pp_0_2 + 2.7000001072883606*pp_0_3 + 4.099999904632568*pp_0_4 + 4.000000029802322*pp_1_2 + 3.0*pp_1_3 + 3.0*pp_1_4 + 2.2499998807907104*pp_2_3 + 3.600000023841858*pp_2_4 + 3.740000069141388*pp_3_4 + 1.8000000715255737*r_0_1 + 3.240000009536743*r_0_2 + 3.600000023841858*r_0_3 + 3.6499999165534973*r_0_4 + 2.800000086426735*r_1_2 + 2.8499999046325684*r_2_3 + 1.8000000715255737*r_2_4 + 3.3200000524520874*r_3_4\n"
     ]
    },
    {
     "data": {
      "image/svg+xml": [
       "<?xml version=\"1.0\" encoding=\"UTF-8\" standalone=\"no\"?>\n",
       "<!DOCTYPE svg PUBLIC \"-//W3C//DTD SVG 1.1//EN\"\n",
       " \"http://www.w3.org/Graphics/SVG/1.1/DTD/svg11.dtd\">\n",
       "<!-- Generated by graphviz version 10.0.1 (20240210.2158)\n",
       " -->\n",
       "<!-- Pages: 1 -->\n",
       "<svg width=\"190pt\" height=\"44pt\"\n",
       " viewBox=\"0.00 0.00 190.06 44.00\" xmlns=\"http://www.w3.org/2000/svg\" xmlns:xlink=\"http://www.w3.org/1999/xlink\">\n",
       "<g id=\"graph0\" class=\"graph\" transform=\"scale(1 1) rotate(0) translate(4 40)\">\n",
       "<polygon fill=\"white\" stroke=\"none\" points=\"-4,4 -4,-40 186.06,-40 186.06,4 -4,4\"/>\n",
       "<!-- I&amp;G&amp;A&amp;F -->\n",
       "<g id=\"node1\" class=\"node\">\n",
       "<title>I&amp;G&amp;A&amp;F</title>\n",
       "<ellipse fill=\"none\" stroke=\"black\" cx=\"55.06\" cy=\"-18\" rx=\"55.06\" ry=\"18\"/>\n",
       "<text text-anchor=\"middle\" x=\"55.06\" y=\"-12.57\" font-family=\"Times New Roman,serif\" font-size=\"14.00\">I&amp;G&amp;A&amp;F</text>\n",
       "</g>\n",
       "<!-- B -->\n",
       "<g id=\"node2\" class=\"node\">\n",
       "<title>B</title>\n",
       "<ellipse fill=\"none\" stroke=\"black\" cx=\"155.06\" cy=\"-18\" rx=\"27\" ry=\"18\"/>\n",
       "<text text-anchor=\"middle\" x=\"155.06\" y=\"-12.57\" font-family=\"Times New Roman,serif\" font-size=\"14.00\">B</text>\n",
       "</g>\n",
       "</g>\n",
       "</svg>\n"
      ],
      "text/plain": [
       "<graphviz.graphs.Digraph at 0x22597293290>"
      ]
     },
     "execution_count": 14,
     "metadata": {},
     "output_type": "execute_result"
    }
   ],
   "source": [
    "import numpy as np\n",
    "\n",
    "from mcdalp.core.credibility import ValuedCredibilityMatrix\n",
    "from mcdalp.core.score import Score\n",
    "from mcdalp.core.visualize.graph import Graph\n",
    "from mcdalp.outranking.valued_promethee import ValuedPrometheeOutranking\n",
    "from mcdalp.outranking.valued_electre import ValuedElectreOutranking\n",
    "\n",
    "example = np.array([[1, 0.6, 0.3, 0.7, 0.55], [0, 1, 0.2, 0, 0], [0.58, 0.6, 1, 0.85, 0], [0.3, 0, 0.6, 1, 0.58],[0.6, 0, 0.6,0.7, 1]], dtype=np.float32)\n",
    "l_example = [\"I\", \"B\", \"G\", \"A\", \"F\"]\n",
    "c_example = ValuedCredibilityMatrix(example)\n",
    "s_example = Score()\n",
    "\n",
    "r_example = ValuedElectreOutranking(c_example, s_example)\n",
    "r_example.solve(\"partial\")\n",
    "r_example.verbose()\n",
    "\n",
    "o_example = r_example.get_outranking(\"outranking\")\n",
    "\n",
    "g_example = Graph(o_example, l_example)\n",
    "g_example.G\n",
    "\n"
   ]
  },
  {
   "cell_type": "code",
   "execution_count": 16,
   "metadata": {},
   "outputs": [
    {
     "data": {
      "text/plain": [
       "[{'name': 'pn_0_1', 'value': 3.600000023841858},\n",
       " {'name': 'pn_0_2', 'value': 3.0600001215934753},\n",
       " {'name': 'pn_0_3', 'value': 4.300000011920929},\n",
       " {'name': 'pn_0_4', 'value': 3.8999998569488525},\n",
       " {'name': 'pn_1_2', 'value': 2.3999999463558197},\n",
       " {'name': 'pn_2_3', 'value': 3.2499998807907104},\n",
       " {'name': 'pn_3_4', 'value': 3.2600000500679016},\n",
       " {'name': 'i_0_1', 'value': 2.0},\n",
       " {'name': 'i_0_2', 'value': 2.600000023841858},\n",
       " {'name': 'i_0_3', 'value': 2.600000023841858},\n",
       " {'name': 'i_0_4', 'value': 2.4999998807907104},\n",
       " {'name': 'i_1_2', 'value': 2.4000000059604645},\n",
       " {'name': 'i_2_3', 'value': 1.3999998569488525},\n",
       " {'name': 'i_3_4', 'value': 2.040000081062317},\n",
       " {'name': 'r_0_1', 'value': 1.8000000715255737},\n",
       " {'name': 'r_0_2', 'value': 3.240000009536743},\n",
       " {'name': 'r_0_3', 'value': 3.600000023841858},\n",
       " {'name': 'r_0_4', 'value': 3.6499999165534973},\n",
       " {'name': 'r_1_2', 'value': 2.800000086426735},\n",
       " {'name': 'r_2_3', 'value': 2.8499999046325684},\n",
       " {'name': 'r_3_4', 'value': 3.3200000524520874},\n",
       " {'name': 'pp_0_2', 'value': 4.180000007152557},\n",
       " {'name': 'pp_0_3', 'value': 2.7000001072883606},\n",
       " {'name': 'pp_0_4', 'value': 4.099999904632568},\n",
       " {'name': 'pp_1_2', 'value': 4.000000029802322},\n",
       " {'name': 'pp_2_3', 'value': 2.2499998807907104},\n",
       " {'name': 'pp_2_4', 'value': 3.600000023841858},\n",
       " {'name': 'pp_3_4', 'value': 3.740000069141388},\n",
       " {'name': 'i_2_4', 'value': 2.0},\n",
       " {'name': 'r_2_4', 'value': 1.8000000715255737},\n",
       " {'name': 'pp_0_1', 'value': 1.1999999284744263},\n",
       " {'name': 'pp_1_3', 'value': 3.0},\n",
       " {'name': 'pp_1_4', 'value': 3.0},\n",
       " {'name': 'pn_1_3', 'value': 3.0},\n",
       " {'name': 'pn_1_4', 'value': 3.0},\n",
       " {'name': 'pn_2_4', 'value': 1.1999999284744263},\n",
       " {'name': 'i_1_3', 'value': 2.0},\n",
       " {'name': 'i_1_4', 'value': 2.0}]"
      ]
     },
     "execution_count": 16,
     "metadata": {},
     "output_type": "execute_result"
    }
   ],
   "source": [
    "x = r_example.problem.objective.to_dict()\n",
    "x"
   ]
  },
  {
   "cell_type": "code",
   "execution_count": 9,
   "metadata": {},
   "outputs": [
    {
     "name": "stdout",
     "output_type": "stream",
     "text": [
      "Status: Optimal\n",
      "\n",
      "OrderedDict([('Positive_preference__0_1_', 1*outranking_0_1 + -1*outranking_1_0 + -1*pp_0_1 + 0 <= 0), ('Negative_preference__0_1_', -1*outranking_0_1 + 1*outranking_1_0 + -1*pn_0_1 + 0 <= 0), ('Indifference__0_1_', -1*i_0_1 + 1*outranking_0_1 + 1*outranking_1_0 + -1 <= 0), ('Incomparability__0_1_', -1*outranking_0_1 + -1*outranking_1_0 + -1*r_0_1 + 1 <= 0), ('Only_one_relation__0,_1_', 1*i_0_1 + 1*pn_0_1 + 1*pp_0_1 + 1*r_0_1 + -1 = 0), ('Positive_preference__0_2_', 1*outranking_0_2 + -1*outranking_2_0 + -1*pp_0_2 + 0 <= 0), ('Negative_preference__0_2_', -1*outranking_0_2 + 1*outranking_2_0 + -1*pn_0_2 + 0 <= 0), ('Indifference__0_2_', -1*i_0_2 + 1*outranking_0_2 + 1*outranking_2_0 + -1 <= 0), ('Incomparability__0_2_', -1*outranking_0_2 + -1*outranking_2_0 + -1*r_0_2 + 1 <= 0), ('Only_one_relation__0,_2_', 1*i_0_2 + 1*pn_0_2 + 1*pp_0_2 + 1*r_0_2 + -1 = 0), ('Positive_preference__0_3_', 1*outranking_0_3 + -1*outranking_3_0 + -1*pp_0_3 + 0 <= 0), ('Negative_preference__0_3_', -1*outranking_0_3 + 1*outranking_3_0 + -1*pn_0_3 + 0 <= 0), ('Indifference__0_3_', -1*i_0_3 + 1*outranking_0_3 + 1*outranking_3_0 + -1 <= 0), ('Incomparability__0_3_', -1*outranking_0_3 + -1*outranking_3_0 + -1*r_0_3 + 1 <= 0), ('Only_one_relation__0,_3_', 1*i_0_3 + 1*pn_0_3 + 1*pp_0_3 + 1*r_0_3 + -1 = 0), ('Positive_preference__0_4_', 1*outranking_0_4 + -1*outranking_4_0 + -1*pp_0_4 + 0 <= 0), ('Negative_preference__0_4_', -1*outranking_0_4 + 1*outranking_4_0 + -1*pn_0_4 + 0 <= 0), ('Indifference__0_4_', -1*i_0_4 + 1*outranking_0_4 + 1*outranking_4_0 + -1 <= 0), ('Incomparability__0_4_', -1*outranking_0_4 + -1*outranking_4_0 + -1*r_0_4 + 1 <= 0), ('Only_one_relation__0,_4_', 1*i_0_4 + 1*pn_0_4 + 1*pp_0_4 + 1*r_0_4 + -1 = 0), ('Positive_preference__1_0_', -1*outranking_0_1 + 1*outranking_1_0 + -1*pp_1_0 + 0 <= 0), ('Negative_preference__1_0_', 1*outranking_0_1 + -1*outranking_1_0 + -1*pn_1_0 + 0 <= 0), ('Indifference__1_0_', -1*i_1_0 + 1*outranking_0_1 + 1*outranking_1_0 + -1 <= 0), ('Incomparability__1_0_', -1*outranking_0_1 + -1*outranking_1_0 + -1*r_1_0 + 1 <= 0), ('Only_one_relation__1,_0_', 1*i_1_0 + 1*pn_1_0 + 1*pp_1_0 + 1*r_1_0 + -1 = 0), ('Positive_preference__1_2_', 1*outranking_1_2 + -1*outranking_2_1 + -1*pp_1_2 + 0 <= 0), ('Negative_preference__1_2_', -1*outranking_1_2 + 1*outranking_2_1 + -1*pn_1_2 + 0 <= 0), ('Indifference__1_2_', -1*i_1_2 + 1*outranking_1_2 + 1*outranking_2_1 + -1 <= 0), ('Incomparability__1_2_', -1*outranking_1_2 + -1*outranking_2_1 + -1*r_1_2 + 1 <= 0), ('Only_one_relation__1,_2_', 1*i_1_2 + 1*pn_1_2 + 1*pp_1_2 + 1*r_1_2 + -1 = 0), ('Positive_preference__1_3_', 1*outranking_1_3 + -1*outranking_3_1 + -1*pp_1_3 + 0 <= 0), ('Negative_preference__1_3_', -1*outranking_1_3 + 1*outranking_3_1 + -1*pn_1_3 + 0 <= 0), ('Indifference__1_3_', -1*i_1_3 + 1*outranking_1_3 + 1*outranking_3_1 + -1 <= 0), ('Incomparability__1_3_', -1*outranking_1_3 + -1*outranking_3_1 + -1*r_1_3 + 1 <= 0), ('Only_one_relation__1,_3_', 1*i_1_3 + 1*pn_1_3 + 1*pp_1_3 + 1*r_1_3 + -1 = 0), ('Positive_preference__1_4_', 1*outranking_1_4 + -1*outranking_4_1 + -1*pp_1_4 + 0 <= 0), ('Negative_preference__1_4_', -1*outranking_1_4 + 1*outranking_4_1 + -1*pn_1_4 + 0 <= 0), ('Indifference__1_4_', -1*i_1_4 + 1*outranking_1_4 + 1*outranking_4_1 + -1 <= 0), ('Incomparability__1_4_', -1*outranking_1_4 + -1*outranking_4_1 + -1*r_1_4 + 1 <= 0), ('Only_one_relation__1,_4_', 1*i_1_4 + 1*pn_1_4 + 1*pp_1_4 + 1*r_1_4 + -1 = 0), ('Positive_preference__2_0_', -1*outranking_0_2 + 1*outranking_2_0 + -1*pp_2_0 + 0 <= 0), ('Negative_preference__2_0_', 1*outranking_0_2 + -1*outranking_2_0 + -1*pn_2_0 + 0 <= 0), ('Indifference__2_0_', -1*i_2_0 + 1*outranking_0_2 + 1*outranking_2_0 + -1 <= 0), ('Incomparability__2_0_', -1*outranking_0_2 + -1*outranking_2_0 + -1*r_2_0 + 1 <= 0), ('Only_one_relation__2,_0_', 1*i_2_0 + 1*pn_2_0 + 1*pp_2_0 + 1*r_2_0 + -1 = 0), ('Positive_preference__2_1_', -1*outranking_1_2 + 1*outranking_2_1 + -1*pp_2_1 + 0 <= 0), ('Negative_preference__2_1_', 1*outranking_1_2 + -1*outranking_2_1 + -1*pn_2_1 + 0 <= 0), ('Indifference__2_1_', -1*i_2_1 + 1*outranking_1_2 + 1*outranking_2_1 + -1 <= 0), ('Incomparability__2_1_', -1*outranking_1_2 + -1*outranking_2_1 + -1*r_2_1 + 1 <= 0), ('Only_one_relation__2,_1_', 1*i_2_1 + 1*pn_2_1 + 1*pp_2_1 + 1*r_2_1 + -1 = 0), ('Positive_preference__2_3_', 1*outranking_2_3 + -1*outranking_3_2 + -1*pp_2_3 + 0 <= 0), ('Negative_preference__2_3_', -1*outranking_2_3 + 1*outranking_3_2 + -1*pn_2_3 + 0 <= 0), ('Indifference__2_3_', -1*i_2_3 + 1*outranking_2_3 + 1*outranking_3_2 + -1 <= 0), ('Incomparability__2_3_', -1*outranking_2_3 + -1*outranking_3_2 + -1*r_2_3 + 1 <= 0), ('Only_one_relation__2,_3_', 1*i_2_3 + 1*pn_2_3 + 1*pp_2_3 + 1*r_2_3 + -1 = 0), ('Positive_preference__2_4_', 1*outranking_2_4 + -1*outranking_4_2 + -1*pp_2_4 + 0 <= 0), ('Negative_preference__2_4_', -1*outranking_2_4 + 1*outranking_4_2 + -1*pn_2_4 + 0 <= 0), ('Indifference__2_4_', -1*i_2_4 + 1*outranking_2_4 + 1*outranking_4_2 + -1 <= 0), ('Incomparability__2_4_', -1*outranking_2_4 + -1*outranking_4_2 + -1*r_2_4 + 1 <= 0), ('Only_one_relation__2,_4_', 1*i_2_4 + 1*pn_2_4 + 1*pp_2_4 + 1*r_2_4 + -1 = 0), ('Positive_preference__3_0_', -1*outranking_0_3 + 1*outranking_3_0 + -1*pp_3_0 + 0 <= 0), ('Negative_preference__3_0_', 1*outranking_0_3 + -1*outranking_3_0 + -1*pn_3_0 + 0 <= 0), ('Indifference__3_0_', -1*i_3_0 + 1*outranking_0_3 + 1*outranking_3_0 + -1 <= 0), ('Incomparability__3_0_', -1*outranking_0_3 + -1*outranking_3_0 + -1*r_3_0 + 1 <= 0), ('Only_one_relation__3,_0_', 1*i_3_0 + 1*pn_3_0 + 1*pp_3_0 + 1*r_3_0 + -1 = 0), ('Positive_preference__3_1_', -1*outranking_1_3 + 1*outranking_3_1 + -1*pp_3_1 + 0 <= 0), ('Negative_preference__3_1_', 1*outranking_1_3 + -1*outranking_3_1 + -1*pn_3_1 + 0 <= 0), ('Indifference__3_1_', -1*i_3_1 + 1*outranking_1_3 + 1*outranking_3_1 + -1 <= 0), ('Incomparability__3_1_', -1*outranking_1_3 + -1*outranking_3_1 + -1*r_3_1 + 1 <= 0), ('Only_one_relation__3,_1_', 1*i_3_1 + 1*pn_3_1 + 1*pp_3_1 + 1*r_3_1 + -1 = 0), ('Positive_preference__3_2_', -1*outranking_2_3 + 1*outranking_3_2 + -1*pp_3_2 + 0 <= 0), ('Negative_preference__3_2_', 1*outranking_2_3 + -1*outranking_3_2 + -1*pn_3_2 + 0 <= 0), ('Indifference__3_2_', -1*i_3_2 + 1*outranking_2_3 + 1*outranking_3_2 + -1 <= 0), ('Incomparability__3_2_', -1*outranking_2_3 + -1*outranking_3_2 + -1*r_3_2 + 1 <= 0), ('Only_one_relation__3,_2_', 1*i_3_2 + 1*pn_3_2 + 1*pp_3_2 + 1*r_3_2 + -1 = 0), ('Positive_preference__3_4_', 1*outranking_3_4 + -1*outranking_4_3 + -1*pp_3_4 + 0 <= 0), ('Negative_preference__3_4_', -1*outranking_3_4 + 1*outranking_4_3 + -1*pn_3_4 + 0 <= 0), ('Indifference__3_4_', -1*i_3_4 + 1*outranking_3_4 + 1*outranking_4_3 + -1 <= 0), ('Incomparability__3_4_', -1*outranking_3_4 + -1*outranking_4_3 + -1*r_3_4 + 1 <= 0), ('Only_one_relation__3,_4_', 1*i_3_4 + 1*pn_3_4 + 1*pp_3_4 + 1*r_3_4 + -1 = 0), ('Positive_preference__4_0_', -1*outranking_0_4 + 1*outranking_4_0 + -1*pp_4_0 + 0 <= 0), ('Negative_preference__4_0_', 1*outranking_0_4 + -1*outranking_4_0 + -1*pn_4_0 + 0 <= 0), ('Indifference__4_0_', -1*i_4_0 + 1*outranking_0_4 + 1*outranking_4_0 + -1 <= 0), ('Incomparability__4_0_', -1*outranking_0_4 + -1*outranking_4_0 + -1*r_4_0 + 1 <= 0), ('Only_one_relation__4,_0_', 1*i_4_0 + 1*pn_4_0 + 1*pp_4_0 + 1*r_4_0 + -1 = 0), ('Positive_preference__4_1_', -1*outranking_1_4 + 1*outranking_4_1 + -1*pp_4_1 + 0 <= 0), ('Negative_preference__4_1_', 1*outranking_1_4 + -1*outranking_4_1 + -1*pn_4_1 + 0 <= 0), ('Indifference__4_1_', -1*i_4_1 + 1*outranking_1_4 + 1*outranking_4_1 + -1 <= 0), ('Incomparability__4_1_', -1*outranking_1_4 + -1*outranking_4_1 + -1*r_4_1 + 1 <= 0), ('Only_one_relation__4,_1_', 1*i_4_1 + 1*pn_4_1 + 1*pp_4_1 + 1*r_4_1 + -1 = 0), ('Positive_preference__4_2_', -1*outranking_2_4 + 1*outranking_4_2 + -1*pp_4_2 + 0 <= 0), ('Negative_preference__4_2_', 1*outranking_2_4 + -1*outranking_4_2 + -1*pn_4_2 + 0 <= 0), ('Indifference__4_2_', -1*i_4_2 + 1*outranking_2_4 + 1*outranking_4_2 + -1 <= 0), ('Incomparability__4_2_', -1*outranking_2_4 + -1*outranking_4_2 + -1*r_4_2 + 1 <= 0), ('Only_one_relation__4,_2_', 1*i_4_2 + 1*pn_4_2 + 1*pp_4_2 + 1*r_4_2 + -1 = 0), ('Positive_preference__4_3_', -1*outranking_3_4 + 1*outranking_4_3 + -1*pp_4_3 + 0 <= 0), ('Negative_preference__4_3_', 1*outranking_3_4 + -1*outranking_4_3 + -1*pn_4_3 + 0 <= 0), ('Indifference__4_3_', -1*i_4_3 + 1*outranking_3_4 + 1*outranking_4_3 + -1 <= 0), ('Incomparability__4_3_', -1*outranking_3_4 + -1*outranking_4_3 + -1*r_4_3 + 1 <= 0), ('Only_one_relation__4,_3_', 1*i_4_3 + 1*pn_4_3 + 1*pp_4_3 + 1*r_4_3 + -1 = 0), ('Transitivity__0_1_2_', 1*outranking_0_1 + -1*outranking_0_2 + -1*outranking_2_1 + 1.5 >= 0), ('Transitivity__0_1_3_', 1*outranking_0_1 + -1*outranking_0_3 + -1*outranking_3_1 + 1.5 >= 0), ('Transitivity__0_1_4_', 1*outranking_0_1 + -1*outranking_0_4 + -1*outranking_4_1 + 1.5 >= 0), ('Transitivity__0_2_1_', -1*outranking_0_1 + 1*outranking_0_2 + -1*outranking_1_2 + 1.5 >= 0), ('Transitivity__0_2_3_', 1*outranking_0_2 + -1*outranking_0_3 + -1*outranking_3_2 + 1.5 >= 0), ('Transitivity__0_2_4_', 1*outranking_0_2 + -1*outranking_0_4 + -1*outranking_4_2 + 1.5 >= 0), ('Transitivity__0_3_1_', -1*outranking_0_1 + 1*outranking_0_3 + -1*outranking_1_3 + 1.5 >= 0), ('Transitivity__0_3_2_', -1*outranking_0_2 + 1*outranking_0_3 + -1*outranking_2_3 + 1.5 >= 0), ('Transitivity__0_3_4_', 1*outranking_0_3 + -1*outranking_0_4 + -1*outranking_4_3 + 1.5 >= 0), ('Transitivity__0_4_1_', -1*outranking_0_1 + 1*outranking_0_4 + -1*outranking_1_4 + 1.5 >= 0), ('Transitivity__0_4_2_', -1*outranking_0_2 + 1*outranking_0_4 + -1*outranking_2_4 + 1.5 >= 0), ('Transitivity__0_4_3_', -1*outranking_0_3 + 1*outranking_0_4 + -1*outranking_3_4 + 1.5 >= 0), ('Transitivity__1_0_2_', 1*outranking_1_0 + -1*outranking_1_2 + -1*outranking_2_0 + 1.5 >= 0), ('Transitivity__1_0_3_', 1*outranking_1_0 + -1*outranking_1_3 + -1*outranking_3_0 + 1.5 >= 0), ('Transitivity__1_0_4_', 1*outranking_1_0 + -1*outranking_1_4 + -1*outranking_4_0 + 1.5 >= 0), ('Transitivity__1_2_0_', -1*outranking_0_2 + -1*outranking_1_0 + 1*outranking_1_2 + 1.5 >= 0), ('Transitivity__1_2_3_', 1*outranking_1_2 + -1*outranking_1_3 + -1*outranking_3_2 + 1.5 >= 0), ('Transitivity__1_2_4_', 1*outranking_1_2 + -1*outranking_1_4 + -1*outranking_4_2 + 1.5 >= 0), ('Transitivity__1_3_0_', -1*outranking_0_3 + -1*outranking_1_0 + 1*outranking_1_3 + 1.5 >= 0), ('Transitivity__1_3_2_', -1*outranking_1_2 + 1*outranking_1_3 + -1*outranking_2_3 + 1.5 >= 0), ('Transitivity__1_3_4_', 1*outranking_1_3 + -1*outranking_1_4 + -1*outranking_4_3 + 1.5 >= 0), ('Transitivity__1_4_0_', -1*outranking_0_4 + -1*outranking_1_0 + 1*outranking_1_4 + 1.5 >= 0), ('Transitivity__1_4_2_', -1*outranking_1_2 + 1*outranking_1_4 + -1*outranking_2_4 + 1.5 >= 0), ('Transitivity__1_4_3_', -1*outranking_1_3 + 1*outranking_1_4 + -1*outranking_3_4 + 1.5 >= 0), ('Transitivity__2_0_1_', -1*outranking_1_0 + 1*outranking_2_0 + -1*outranking_2_1 + 1.5 >= 0), ('Transitivity__2_0_3_', 1*outranking_2_0 + -1*outranking_2_3 + -1*outranking_3_0 + 1.5 >= 0), ('Transitivity__2_0_4_', 1*outranking_2_0 + -1*outranking_2_4 + -1*outranking_4_0 + 1.5 >= 0), ('Transitivity__2_1_0_', -1*outranking_0_1 + -1*outranking_2_0 + 1*outranking_2_1 + 1.5 >= 0), ('Transitivity__2_1_3_', 1*outranking_2_1 + -1*outranking_2_3 + -1*outranking_3_1 + 1.5 >= 0), ('Transitivity__2_1_4_', 1*outranking_2_1 + -1*outranking_2_4 + -1*outranking_4_1 + 1.5 >= 0), ('Transitivity__2_3_0_', -1*outranking_0_3 + -1*outranking_2_0 + 1*outranking_2_3 + 1.5 >= 0), ('Transitivity__2_3_1_', -1*outranking_1_3 + -1*outranking_2_1 + 1*outranking_2_3 + 1.5 >= 0), ('Transitivity__2_3_4_', 1*outranking_2_3 + -1*outranking_2_4 + -1*outranking_4_3 + 1.5 >= 0), ('Transitivity__2_4_0_', -1*outranking_0_4 + -1*outranking_2_0 + 1*outranking_2_4 + 1.5 >= 0), ('Transitivity__2_4_1_', -1*outranking_1_4 + -1*outranking_2_1 + 1*outranking_2_4 + 1.5 >= 0), ('Transitivity__2_4_3_', -1*outranking_2_3 + 1*outranking_2_4 + -1*outranking_3_4 + 1.5 >= 0), ('Transitivity__3_0_1_', -1*outranking_1_0 + 1*outranking_3_0 + -1*outranking_3_1 + 1.5 >= 0), ('Transitivity__3_0_2_', -1*outranking_2_0 + 1*outranking_3_0 + -1*outranking_3_2 + 1.5 >= 0), ('Transitivity__3_0_4_', 1*outranking_3_0 + -1*outranking_3_4 + -1*outranking_4_0 + 1.5 >= 0), ('Transitivity__3_1_0_', -1*outranking_0_1 + -1*outranking_3_0 + 1*outranking_3_1 + 1.5 >= 0), ('Transitivity__3_1_2_', -1*outranking_2_1 + 1*outranking_3_1 + -1*outranking_3_2 + 1.5 >= 0), ('Transitivity__3_1_4_', 1*outranking_3_1 + -1*outranking_3_4 + -1*outranking_4_1 + 1.5 >= 0), ('Transitivity__3_2_0_', -1*outranking_0_2 + -1*outranking_3_0 + 1*outranking_3_2 + 1.5 >= 0), ('Transitivity__3_2_1_', -1*outranking_1_2 + -1*outranking_3_1 + 1*outranking_3_2 + 1.5 >= 0), ('Transitivity__3_2_4_', 1*outranking_3_2 + -1*outranking_3_4 + -1*outranking_4_2 + 1.5 >= 0), ('Transitivity__3_4_0_', -1*outranking_0_4 + -1*outranking_3_0 + 1*outranking_3_4 + 1.5 >= 0), ('Transitivity__3_4_1_', -1*outranking_1_4 + -1*outranking_3_1 + 1*outranking_3_4 + 1.5 >= 0), ('Transitivity__3_4_2_', -1*outranking_2_4 + -1*outranking_3_2 + 1*outranking_3_4 + 1.5 >= 0), ('Transitivity__4_0_1_', -1*outranking_1_0 + 1*outranking_4_0 + -1*outranking_4_1 + 1.5 >= 0), ('Transitivity__4_0_2_', -1*outranking_2_0 + 1*outranking_4_0 + -1*outranking_4_2 + 1.5 >= 0), ('Transitivity__4_0_3_', -1*outranking_3_0 + 1*outranking_4_0 + -1*outranking_4_3 + 1.5 >= 0), ('Transitivity__4_1_0_', -1*outranking_0_1 + -1*outranking_4_0 + 1*outranking_4_1 + 1.5 >= 0), ('Transitivity__4_1_2_', -1*outranking_2_1 + 1*outranking_4_1 + -1*outranking_4_2 + 1.5 >= 0), ('Transitivity__4_1_3_', -1*outranking_3_1 + 1*outranking_4_1 + -1*outranking_4_3 + 1.5 >= 0), ('Transitivity__4_2_0_', -1*outranking_0_2 + -1*outranking_4_0 + 1*outranking_4_2 + 1.5 >= 0), ('Transitivity__4_2_1_', -1*outranking_1_2 + -1*outranking_4_1 + 1*outranking_4_2 + 1.5 >= 0), ('Transitivity__4_2_3_', -1*outranking_3_2 + 1*outranking_4_2 + -1*outranking_4_3 + 1.5 >= 0), ('Transitivity__4_3_0_', -1*outranking_0_3 + -1*outranking_4_0 + 1*outranking_4_3 + 1.5 >= 0), ('Transitivity__4_3_1_', -1*outranking_1_3 + -1*outranking_4_1 + 1*outranking_4_3 + 1.5 >= 0), ('Transitivity__4_3_2_', -1*outranking_2_3 + -1*outranking_4_2 + 1*outranking_4_3 + 1.5 >= 0)])\n",
      "\n",
      "Matrix pp:\n",
      "[[1. 0. 0. 0. 0.]\n",
      " [0. 1. 0. 0. 0.]\n",
      " [0. 0. 1. 0. 0.]\n",
      " [0. 0. 0. 1. 0.]\n",
      " [0. 0. 0. 0. 1.]]\n",
      "\n",
      "Matrix outranking:\n",
      "[[1. 0. 1. 1. 1.]\n",
      " [0. 1. 0. 0. 0.]\n",
      " [1. 0. 1. 1. 1.]\n",
      " [1. 0. 1. 1. 1.]\n",
      " [1. 0. 1. 1. 1.]]\n",
      "\n",
      "Matrix pn:\n",
      "[[1. 0. 0. 0. 0.]\n",
      " [0. 1. 0. 0. 0.]\n",
      " [0. 0. 1. 0. 0.]\n",
      " [0. 0. 0. 1. 0.]\n",
      " [0. 0. 0. 0. 1.]]\n",
      "\n",
      "Matrix r:\n",
      "[[1. 1. 0. 0. 0.]\n",
      " [1. 1. 1. 1. 1.]\n",
      " [0. 1. 1. 0. 0.]\n",
      " [0. 1. 0. 1. 0.]\n",
      " [0. 1. 0. 0. 1.]]\n",
      "\n",
      "Matrix i:\n",
      "[[1. 0. 1. 1. 1.]\n",
      " [0. 1. 0. 0. 0.]\n",
      " [1. 0. 1. 1. 1.]\n",
      " [1. 0. 1. 1. 1.]\n",
      " [1. 0. 1. 1. 1.]]\n",
      "\n",
      "Objective function: 2.0*i_0_1 + 2.600000023841858*i_0_2 + 2.600000023841858*i_0_3 + 2.4999998807907104*i_0_4 + 2.4000000059604645*i_1_2 + 2.0*i_1_3 + 2.0*i_1_4 + 1.3999998569488525*i_2_3 + 2.0*i_2_4 + 2.040000081062317*i_3_4 + 3.600000023841858*pn_0_1 + 3.0600001215934753*pn_0_2 + 4.300000011920929*pn_0_3 + 3.8999998569488525*pn_0_4 + 2.3999999463558197*pn_1_2 + 3.0*pn_1_3 + 3.0*pn_1_4 + 3.2499998807907104*pn_2_3 + 1.1999999284744263*pn_2_4 + 3.2600000500679016*pn_3_4 + 1.1999999284744263*pp_0_1 + 4.180000007152557*pp_0_2 + 2.7000001072883606*pp_0_3 + 4.099999904632568*pp_0_4 + 4.000000029802322*pp_1_2 + 3.0*pp_1_3 + 3.0*pp_1_4 + 2.2499998807907104*pp_2_3 + 3.600000023841858*pp_2_4 + 3.740000069141388*pp_3_4 + 1.8000000715255737*r_0_1 + 3.240000009536743*r_0_2 + 3.600000023841858*r_0_3 + 3.6499999165534973*r_0_4 + 2.800000086426735*r_1_2 + 2.8499999046325684*r_2_3 + 1.8000000715255737*r_2_4 + 3.3200000524520874*r_3_4\n"
     ]
    }
   ],
   "source": [
    "r_example.verbose()"
   ]
  },
  {
   "cell_type": "code",
   "execution_count": 47,
   "metadata": {},
   "outputs": [
    {
     "name": "stdout",
     "output_type": "stream",
     "text": [
      "POSITIVE PREFERENCE MATRIX\n",
      "[[0.         0.7        1.        ]\n",
      " [0.10000002 0.         0.8       ]\n",
      " [0.         0.10000002 0.        ]]\n",
      "NEGATIVE PREFERENCE MATRIX\n",
      "[[0.         0.10000002 0.        ]\n",
      " [0.7        0.         0.10000002]\n",
      " [1.         0.8        0.        ]]\n",
      "INDIFFERENCE MATRIX\n",
      "[[1.  0.3 0. ]\n",
      " [0.3 1.  0.2]\n",
      " [0.  0.2 1. ]]\n",
      "INCOMPARIBLE MATRIX\n",
      "[[0.         0.10000002 0.        ]\n",
      " [0.10000002 0.         0.10000002]\n",
      " [0.         0.10000002 0.        ]]\n"
     ]
    },
    {
     "data": {
      "image/svg+xml": [
       "<?xml version=\"1.0\" encoding=\"UTF-8\" standalone=\"no\"?>\n",
       "<!DOCTYPE svg PUBLIC \"-//W3C//DTD SVG 1.1//EN\"\n",
       " \"http://www.w3.org/Graphics/SVG/1.1/DTD/svg11.dtd\">\n",
       "<!-- Generated by graphviz version 10.0.1 (20240210.2158)\n",
       " -->\n",
       "<!-- Pages: 1 -->\n",
       "<svg width=\"62pt\" height=\"188pt\"\n",
       " viewBox=\"0.00 0.00 62.00 188.00\" xmlns=\"http://www.w3.org/2000/svg\" xmlns:xlink=\"http://www.w3.org/1999/xlink\">\n",
       "<g id=\"graph0\" class=\"graph\" transform=\"scale(1 1) rotate(0) translate(4 184)\">\n",
       "<polygon fill=\"white\" stroke=\"none\" points=\"-4,4 -4,-184 58,-184 58,4 -4,4\"/>\n",
       "<!-- A -->\n",
       "<g id=\"node1\" class=\"node\">\n",
       "<title>A</title>\n",
       "<ellipse fill=\"none\" stroke=\"black\" cx=\"27\" cy=\"-162\" rx=\"27\" ry=\"18\"/>\n",
       "<text text-anchor=\"middle\" x=\"27\" y=\"-156.57\" font-family=\"Times New Roman,serif\" font-size=\"14.00\">A</text>\n",
       "</g>\n",
       "<!-- B -->\n",
       "<g id=\"node2\" class=\"node\">\n",
       "<title>B</title>\n",
       "<ellipse fill=\"none\" stroke=\"black\" cx=\"27\" cy=\"-90\" rx=\"27\" ry=\"18\"/>\n",
       "<text text-anchor=\"middle\" x=\"27\" y=\"-84.58\" font-family=\"Times New Roman,serif\" font-size=\"14.00\">B</text>\n",
       "</g>\n",
       "<!-- A&#45;&gt;B -->\n",
       "<g id=\"edge1\" class=\"edge\">\n",
       "<title>A&#45;&gt;B</title>\n",
       "<path fill=\"none\" stroke=\"black\" d=\"M27,-143.7C27,-136.41 27,-127.73 27,-119.54\"/>\n",
       "<polygon fill=\"black\" stroke=\"black\" points=\"30.5,-119.62 27,-109.62 23.5,-119.62 30.5,-119.62\"/>\n",
       "</g>\n",
       "<!-- C -->\n",
       "<g id=\"node3\" class=\"node\">\n",
       "<title>C</title>\n",
       "<ellipse fill=\"none\" stroke=\"black\" cx=\"27\" cy=\"-18\" rx=\"27\" ry=\"18\"/>\n",
       "<text text-anchor=\"middle\" x=\"27\" y=\"-12.57\" font-family=\"Times New Roman,serif\" font-size=\"14.00\">C</text>\n",
       "</g>\n",
       "<!-- B&#45;&gt;C -->\n",
       "<g id=\"edge2\" class=\"edge\">\n",
       "<title>B&#45;&gt;C</title>\n",
       "<path fill=\"none\" stroke=\"black\" d=\"M27,-71.7C27,-64.41 27,-55.73 27,-47.54\"/>\n",
       "<polygon fill=\"black\" stroke=\"black\" points=\"30.5,-47.62 27,-37.62 23.5,-47.62 30.5,-47.62\"/>\n",
       "</g>\n",
       "</g>\n",
       "</svg>\n"
      ],
      "text/plain": [
       "<graphviz.graphs.Digraph at 0x22599080050>"
      ]
     },
     "execution_count": 47,
     "metadata": {},
     "output_type": "execute_result"
    }
   ],
   "source": [
    "simple1 = np.array([[1,0.9,1],[0.3,1,0.9],[0,0.2,1]], dtype=np.float32)\n",
    "l_simple1 = [\"A\", \"B\", \"C\"]\n",
    "c_simple1 = ValuedCredibilityMatrix(simple1)\n",
    "s_simple1 = Score()\n",
    "\n",
    "r_simple1 = ValuedElectreOutranking(c_simple1, s_simple1)\n",
    "r_simple1.solve(\"partial\")\n",
    "\n",
    "o_simple1 = r_simple1.get_outranking(\"outranking\")\n",
    "\n",
    "g_simple1 = Graph(o_simple1, l_simple1)\n",
    "g_simple1.G"
   ]
  },
  {
   "cell_type": "code",
   "execution_count": 49,
   "metadata": {},
   "outputs": [
    {
     "data": {
      "text/plain": [
       "1"
      ]
     },
     "execution_count": 49,
     "metadata": {},
     "output_type": "execute_result"
    }
   ],
   "source": [
    "r_simple1.problem.solve()"
   ]
  },
  {
   "cell_type": "code",
   "execution_count": 51,
   "metadata": {},
   "outputs": [
    {
     "data": {
      "image/svg+xml": [
       "<?xml version=\"1.0\" encoding=\"UTF-8\" standalone=\"no\"?>\n",
       "<!DOCTYPE svg PUBLIC \"-//W3C//DTD SVG 1.1//EN\"\n",
       " \"http://www.w3.org/Graphics/SVG/1.1/DTD/svg11.dtd\">\n",
       "<!-- Generated by graphviz version 10.0.1 (20240210.2158)\n",
       " -->\n",
       "<!-- Pages: 1 -->\n",
       "<svg width=\"69pt\" height=\"116pt\"\n",
       " viewBox=\"0.00 0.00 69.21 116.00\" xmlns=\"http://www.w3.org/2000/svg\" xmlns:xlink=\"http://www.w3.org/1999/xlink\">\n",
       "<g id=\"graph0\" class=\"graph\" transform=\"scale(1 1) rotate(0) translate(4 112)\">\n",
       "<polygon fill=\"white\" stroke=\"none\" points=\"-4,4 -4,-112 65.21,-112 65.21,4 -4,4\"/>\n",
       "<!-- A&amp;B -->\n",
       "<g id=\"node1\" class=\"node\">\n",
       "<title>A&amp;B</title>\n",
       "<ellipse fill=\"none\" stroke=\"black\" cx=\"30.61\" cy=\"-90\" rx=\"30.61\" ry=\"18\"/>\n",
       "<text text-anchor=\"middle\" x=\"30.61\" y=\"-84.58\" font-family=\"Times New Roman,serif\" font-size=\"14.00\">A&amp;B</text>\n",
       "</g>\n",
       "<!-- C -->\n",
       "<g id=\"node2\" class=\"node\">\n",
       "<title>C</title>\n",
       "<ellipse fill=\"none\" stroke=\"black\" cx=\"30.61\" cy=\"-18\" rx=\"27\" ry=\"18\"/>\n",
       "<text text-anchor=\"middle\" x=\"30.61\" y=\"-12.57\" font-family=\"Times New Roman,serif\" font-size=\"14.00\">C</text>\n",
       "</g>\n",
       "<!-- A&amp;B&#45;&gt;C -->\n",
       "<g id=\"edge1\" class=\"edge\">\n",
       "<title>A&amp;B&#45;&gt;C</title>\n",
       "<path fill=\"none\" stroke=\"black\" d=\"M30.61,-71.7C30.61,-64.41 30.61,-55.73 30.61,-47.54\"/>\n",
       "<polygon fill=\"black\" stroke=\"black\" points=\"34.11,-47.62 30.61,-37.62 27.11,-47.62 34.11,-47.62\"/>\n",
       "</g>\n",
       "</g>\n",
       "</svg>\n"
      ],
      "text/plain": [
       "<graphviz.graphs.Digraph at 0x225990c9e10>"
      ]
     },
     "execution_count": 51,
     "metadata": {},
     "output_type": "execute_result"
    }
   ],
   "source": [
    "o_simple1 = r_simple1.get_outranking(\"outranking\")\n",
    "\n",
    "g_simple1 = Graph(o_simple1, l_simple1)\n",
    "g_simple1.G"
   ]
  },
  {
   "cell_type": "code",
   "execution_count": 52,
   "metadata": {},
   "outputs": [
    {
     "data": {
      "text/plain": [
       "2.9000002443790436"
      ]
     },
     "execution_count": 52,
     "metadata": {},
     "output_type": "execute_result"
    }
   ],
   "source": [
    "r_simple1.problem.objective.value()"
   ]
  },
  {
   "cell_type": "code",
   "execution_count": 27,
   "metadata": {},
   "outputs": [
    {
     "data": {
      "text/plain": [
       "True"
      ]
     },
     "execution_count": 27,
     "metadata": {},
     "output_type": "execute_result"
    }
   ],
   "source": [
    "from pulp import LpVariable, LpInteger, LpProblem, LpMinimize, LpStatus\n",
    "from pulp.constants import LpStatusNotSolved\n",
    "\n",
    "prob = LpProblem(\"test\", LpMinimize)\n",
    "prob.status == LpStatusNotSolved"
   ]
  },
  {
   "cell_type": "code",
   "execution_count": null,
   "metadata": {},
   "outputs": [],
   "source": []
  }
 ],
 "metadata": {
  "kernelspec": {
   "display_name": "venv",
   "language": "python",
   "name": "python3"
  },
  "language_info": {
   "codemirror_mode": {
    "name": "ipython",
    "version": 3
   },
   "file_extension": ".py",
   "mimetype": "text/x-python",
   "name": "python",
   "nbconvert_exporter": "python",
   "pygments_lexer": "ipython3",
   "version": "3.11.7"
  }
 },
 "nbformat": 4,
 "nbformat_minor": 2
}
