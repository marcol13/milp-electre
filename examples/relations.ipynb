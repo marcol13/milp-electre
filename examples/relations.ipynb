{
 "cells": [
  {
   "cell_type": "markdown",
   "metadata": {},
   "source": [
    "## Relations\n",
    "---\n",
    "Based on `pyMCDA` library, proper relation classes was created. They are created to define score tables and distances between other relations.\n",
    "\n",
    "All of them are used mostly like an Enum variables. Due to keep consistency with `pyMCDA` library, it is possible to create instances of that classes and use crucial methods, like checking compatibility with other relations."
   ]
  },
  {
   "cell_type": "code",
   "execution_count": 6,
   "metadata": {},
   "outputs": [
    {
     "name": "stdout",
     "output_type": "stream",
     "text": [
      "True\n",
      "True\n",
      "False\n",
      "True\n"
     ]
    }
   ],
   "source": [
    "from milp_electre.core.relations import PositivePreference, NegativePreference, Indifference, Incomparible\n",
    "\n",
    "pos_pref = PositivePreference(0,1)\n",
    "neg_pref = NegativePreference(1,0)\n",
    "indif = Indifference(0,1)\n",
    "incom = Incomparible(0,2)\n",
    "\n",
    "print(pos_pref.compatible(neg_pref))\n",
    "print(neg_pref.compatible(pos_pref))\n",
    "print(indif.compatible(neg_pref))\n",
    "print(incom.compatible(indif))"
   ]
  }
 ],
 "metadata": {
  "kernelspec": {
   "display_name": "venv",
   "language": "python",
   "name": "python3"
  },
  "language_info": {
   "codemirror_mode": {
    "name": "ipython",
    "version": 3
   },
   "file_extension": ".py",
   "mimetype": "text/x-python",
   "name": "python",
   "nbconvert_exporter": "python",
   "pygments_lexer": "ipython3",
   "version": "3.10.11"
  }
 },
 "nbformat": 4,
 "nbformat_minor": 2
}
