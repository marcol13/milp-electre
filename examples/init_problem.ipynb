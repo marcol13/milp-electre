{
 "cells": [
  {
   "cell_type": "markdown",
   "metadata": {},
   "source": [
    "## Initialize problems\n",
    "\n",
    "This notebook shows how to create an adequate data structure for MILP algorithms input. In most cases it uses `PyMCDA` package."
   ]
  },
  {
   "cell_type": "code",
   "execution_count": 5,
   "metadata": {},
   "outputs": [],
   "source": [
    "from mcda.core.matrices import *\n",
    "from mcda.core.relations import *\n",
    "from mcda.core.scales import *\n",
    "from mcda.outranking.electre import *"
   ]
  },
  {
   "cell_type": "markdown",
   "metadata": {},
   "source": [
    "### Valued credibility matrix\n",
    "\n",
    "In some cases we would like to have our problem in fuzzy form. It is possible to use it with `milp-electre` library. You can create your own outranking matrix or use `PyMCDA`."
   ]
  },
  {
   "cell_type": "code",
   "execution_count": 6,
   "metadata": {},
   "outputs": [],
   "source": [
    "# Names of alternatives\n",
    "alternatives = [\n",
    "    \"Peugeot 505 GR\",\n",
    "    \"Opel Record 2000 LS\",\n",
    "    \"Citroen Visa Super E\",\n",
    "    \"VW Golf 1300 GLS\",\n",
    "    \"Citroen CX 2400 Pallas\",\n",
    "    \"Renault Scenic\"\n",
    "]\n",
    "\n",
    "# Defining critieria scales\n",
    "scales = {\n",
    "    0: QuantitativeScale(7, 10),\n",
    "    1: QuantitativeScale(7, 10),\n",
    "    2: QuantitativeScale(5, 9),\n",
    "    3: QuantitativeScale(6, 9),\n",
    "}\n",
    "\n",
    "# Creating performance table\n",
    "dataset = PerformanceTable(\n",
    "    [\n",
    "        [8.84, 8.79, 6.43, 6.95],\n",
    "        [8.57, 8.51, 5.47, 6.91],\n",
    "        [7.76, 7.75, 5.34, 8.76],\n",
    "        [7.97, 9.12, 5.93, 8.09],\n",
    "        [9.03, 8.97, 8.19, 8.10],\n",
    "        [7.41, 7.87, 6.77, 7.23],\n",
    "    ], \n",
    "    alternatives=alternatives, scales=scales\n",
    ")\n",
    "\n",
    "# Defining thresholds on critierias\n",
    "W = {0: 9.00, 1: 8.24, 2: 5.98, 3: 8.48}\n",
    "P = {0: 0.50, 1: 0.50, 2: 0.50, 3: 0.50}\n",
    "I = {0: 0.30, 1: 0.30, 2: 0.30, 3: 0.30}\n",
    "V = {0: 0.70, 1: 0.70, 2: 0.70, 3: 0.70}\n",
    "\n",
    "electre3 = Electre3(dataset, W, I, P, V)"
   ]
  },
  {
   "cell_type": "code",
   "execution_count": 7,
   "metadata": {},
   "outputs": [
    {
     "name": "stderr",
     "output_type": "stream",
     "text": [
      "e:\\Dokumenty\\Na studia\\Praca magisterska\\milp-electre\\venv\\lib\\site-packages\\mcda\\core\\matrices.py:578: FutureWarning: DataFrame.applymap has been deprecated. Use DataFrame.map instead.\n",
      "  self.data = self.data.applymap(\n",
      "e:\\Dokumenty\\Na studia\\Praca magisterska\\milp-electre\\venv\\lib\\site-packages\\mcda\\core\\matrices.py:590: FutureWarning: DataFrame.applymap has been deprecated. Use DataFrame.map instead.\n",
      "  Series(self.data.applymap(lambda s: s[c]).values.flatten())\n"
     ]
    },
    {
     "data": {
      "text/html": [
       "<div>\n",
       "<style scoped>\n",
       "    .dataframe tbody tr th:only-of-type {\n",
       "        vertical-align: middle;\n",
       "    }\n",
       "\n",
       "    .dataframe tbody tr th {\n",
       "        vertical-align: top;\n",
       "    }\n",
       "\n",
       "    .dataframe thead th {\n",
       "        text-align: right;\n",
       "    }\n",
       "</style>\n",
       "<table border=\"1\" class=\"dataframe\">\n",
       "  <thead>\n",
       "    <tr style=\"text-align: right;\">\n",
       "      <th></th>\n",
       "      <th>Peugeot 505 GR</th>\n",
       "      <th>Opel Record 2000 LS</th>\n",
       "      <th>Citroen Visa Super E</th>\n",
       "      <th>VW Golf 1300 GLS</th>\n",
       "      <th>Citroen CX 2400 Pallas</th>\n",
       "      <th>Renault Scenic</th>\n",
       "    </tr>\n",
       "  </thead>\n",
       "  <tbody>\n",
       "    <tr>\n",
       "      <th>Peugeot 505 GR</th>\n",
       "      <td>1.0</td>\n",
       "      <td>1.000000</td>\n",
       "      <td>0.000000</td>\n",
       "      <td>0.0</td>\n",
       "      <td>0.0</td>\n",
       "      <td>0.962271</td>\n",
       "    </tr>\n",
       "    <tr>\n",
       "      <th>Opel Record 2000 LS</th>\n",
       "      <td>0.0</td>\n",
       "      <td>1.000000</td>\n",
       "      <td>0.000000</td>\n",
       "      <td>0.0</td>\n",
       "      <td>0.0</td>\n",
       "      <td>0.000000</td>\n",
       "    </tr>\n",
       "    <tr>\n",
       "      <th>Citroen Visa Super E</th>\n",
       "      <td>0.0</td>\n",
       "      <td>0.000000</td>\n",
       "      <td>1.000000</td>\n",
       "      <td>0.0</td>\n",
       "      <td>0.0</td>\n",
       "      <td>0.000000</td>\n",
       "    </tr>\n",
       "    <tr>\n",
       "      <th>VW Golf 1300 GLS</th>\n",
       "      <td>0.0</td>\n",
       "      <td>0.716088</td>\n",
       "      <td>0.410731</td>\n",
       "      <td>1.0</td>\n",
       "      <td>0.0</td>\n",
       "      <td>0.000000</td>\n",
       "    </tr>\n",
       "    <tr>\n",
       "      <th>Citroen CX 2400 Pallas</th>\n",
       "      <td>1.0</td>\n",
       "      <td>1.000000</td>\n",
       "      <td>0.547642</td>\n",
       "      <td>1.0</td>\n",
       "      <td>1.0</td>\n",
       "      <td>1.000000</td>\n",
       "    </tr>\n",
       "    <tr>\n",
       "      <th>Renault Scenic</th>\n",
       "      <td>0.0</td>\n",
       "      <td>0.000000</td>\n",
       "      <td>0.000000</td>\n",
       "      <td>0.0</td>\n",
       "      <td>0.0</td>\n",
       "      <td>1.000000</td>\n",
       "    </tr>\n",
       "  </tbody>\n",
       "</table>\n",
       "</div>"
      ],
      "text/plain": [
       "                        Peugeot 505 GR  Opel Record 2000 LS  \\\n",
       "Peugeot 505 GR                     1.0             1.000000   \n",
       "Opel Record 2000 LS                0.0             1.000000   \n",
       "Citroen Visa Super E               0.0             0.000000   \n",
       "VW Golf 1300 GLS                   0.0             0.716088   \n",
       "Citroen CX 2400 Pallas             1.0             1.000000   \n",
       "Renault Scenic                     0.0             0.000000   \n",
       "\n",
       "                        Citroen Visa Super E  VW Golf 1300 GLS  \\\n",
       "Peugeot 505 GR                      0.000000               0.0   \n",
       "Opel Record 2000 LS                 0.000000               0.0   \n",
       "Citroen Visa Super E                1.000000               0.0   \n",
       "VW Golf 1300 GLS                    0.410731               1.0   \n",
       "Citroen CX 2400 Pallas              0.547642               1.0   \n",
       "Renault Scenic                      0.000000               0.0   \n",
       "\n",
       "                        Citroen CX 2400 Pallas  Renault Scenic  \n",
       "Peugeot 505 GR                             0.0        0.962271  \n",
       "Opel Record 2000 LS                        0.0        0.000000  \n",
       "Citroen Visa Super E                       0.0        0.000000  \n",
       "VW Golf 1300 GLS                           0.0        0.000000  \n",
       "Citroen CX 2400 Pallas                     1.0        1.000000  \n",
       "Renault Scenic                             0.0        1.000000  "
      ]
     },
     "execution_count": 7,
     "metadata": {},
     "output_type": "execute_result"
    }
   ],
   "source": [
    "credibility = electre3.construct()\n",
    "credibility.data"
   ]
  },
  {
   "cell_type": "code",
   "execution_count": null,
   "metadata": {},
   "outputs": [],
   "source": []
  },
  {
   "cell_type": "markdown",
   "metadata": {},
   "source": [
    "### Crisp (binary) credibility matrix"
   ]
  },
  {
   "cell_type": "code",
   "execution_count": null,
   "metadata": {},
   "outputs": [],
   "source": []
  },
  {
   "cell_type": "markdown",
   "metadata": {},
   "source": [
    "### Stochastic acceptance credibility matrix"
   ]
  },
  {
   "cell_type": "markdown",
   "metadata": {},
   "source": []
  },
  {
   "cell_type": "markdown",
   "metadata": {},
   "source": [
    "### Relation credibility matrix"
   ]
  },
  {
   "cell_type": "markdown",
   "metadata": {},
   "source": []
  }
 ],
 "metadata": {
  "kernelspec": {
   "display_name": "venv",
   "language": "python",
   "name": "python3"
  },
  "language_info": {
   "codemirror_mode": {
    "name": "ipython",
    "version": 3
   },
   "file_extension": ".py",
   "mimetype": "text/x-python",
   "name": "python",
   "nbconvert_exporter": "python",
   "pygments_lexer": "ipython3",
   "version": "3.9.0"
  }
 },
 "nbformat": 4,
 "nbformat_minor": 2
}
